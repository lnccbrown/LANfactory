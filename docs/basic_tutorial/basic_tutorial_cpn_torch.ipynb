{
 "cells": [
  {
   "cell_type": "markdown",
   "metadata": {},
   "source": [
    "### Quick Start"
   ]
  },
  {
   "cell_type": "markdown",
   "metadata": {},
   "source": [
    "The `LANfactory` package is a light-weight convenience package for training `likelihood approximation networks` (LANs) in torch (or keras), \n",
    "starting from supplied training data.\n",
    "\n",
    "[LANs](https://elifesciences.org/articles/65074), although more general in potential scope of applications, were conceived in the context of sequential sampling modeling\n",
    "to account for cognitive processes giving rise to *choice* and *reaction time* data in *n-alternative forced choice experiments* commonly encountered in the cognitive sciences.\n",
    "\n",
    "In this quick tutorial we will use the [`ssms`](https://github.com/AlexanderFengler/ssm_simulators) package to generate our training data using such a sequential sampling model (SSM). The use of of the `LANfactory` package is in no way bound to utilize this `ssms` package."
   ]
  },
  {
   "cell_type": "markdown",
   "metadata": {},
   "source": [
    "#### Install\n",
    "\n",
    "To install the `ssms` package type,\n",
    "\n",
    "`pip install git+https://github.com/AlexanderFengler/ssm_simulators`\n",
    "\n",
    "To install the `LANfactory` package type,\n",
    "\n",
    "`pip install git+https://github.com/AlexanderFengler/LANfactory`\n",
    "\n",
    "Necessary dependency should be installed automatically in the process."
   ]
  },
  {
   "cell_type": "markdown",
   "metadata": {},
   "source": [
    "#### Basic Tutorial"
   ]
  },
  {
   "cell_type": "code",
   "execution_count": null,
   "metadata": {},
   "outputs": [
    {
     "name": "stdout",
     "output_type": "stream",
     "text": [
      "wandb not available\n",
      "wandb not available\n"
     ]
    }
   ],
   "source": [
    "# Load necessary packages\n",
    "import ssms\n",
    "import lanfactory\n",
    "import numpy as np\n",
    "from copy import deepcopy\n",
    "from pathlib import Path\n",
    "\n",
    "import pandas as pd\n",
    "import matplotlib.pyplot as plt\n",
    "from ssms.basic_simulators.simulator import simulator\n",
    "import torch"
   ]
  },
  {
   "cell_type": "markdown",
   "metadata": {},
   "source": [
    "#### Generate Training Data\n",
    "First we need to generate some training data. As mentioned above we will do so using the `ssms` python package, however without delving into a detailed explanation\n",
    "of this package. Please refer to the [basic ssms tutorial] (https://github.com/AlexanderFengler/ssm_simulators) in case you want to learn more."
   ]
  },
  {
   "cell_type": "code",
   "execution_count": 2,
   "metadata": {},
   "outputs": [],
   "source": [
    "RUN_SIMS = False\n",
    "DEVICE = \"cpu\"\n",
    "N_TRAIN_EPOCHS = 10\n",
    "\n",
    "MODEL = \"ddm\"\n",
    "OUT_FOLDER = Path(\"torch_nb_data\") / \"training_data\"\n",
    "MODEL_FOLDER = Path(\"torch_nb_data\") / \"torch_models\" / \"cpn\"\n",
    "\n",
    "N_DATA_FILES = 5\n",
    "\n",
    "BATCH_SIZE = 1024\n"
   ]
  },
  {
   "cell_type": "code",
   "execution_count": 3,
   "metadata": {},
   "outputs": [
    {
     "name": "stderr",
     "output_type": "stream",
     "text": [
      "/var/folders/gx/s43vynx550qbypcxm83fv56dzq4hgg/T/ipykernel_63494/60946343.py:4: DeprecationWarning: Accessing this configuration dict is deprecated and will be removed in a future version. Use `get_default_generator_config` instead.\n",
      "  generator_config = deepcopy(ssms.config.data_generator_config[\"lan\"])\n"
     ]
    }
   ],
   "source": [
    "# MAKE CONFIGS\n",
    "\n",
    "# Initialize the generator config (for MLP LANs)\n",
    "generator_config = deepcopy(ssms.config.data_generator_config[\"lan\"])\n",
    "# Specify generative model (one from the list of included models mentioned above)\n",
    "generator_config[\"model\"] = MODEL\n",
    "# Specify number of parameter sets to simulate\n",
    "generator_config[\"n_parameter_sets\"] = 10000\n",
    "# Specify how many samples a simulation run should entail\n",
    "generator_config[\"n_samples\"] = 1000\n",
    "# Specify folder in which to save generated data\n",
    "generator_config[\"output_folder\"] = OUT_FOLDER\n",
    "\n",
    "# Make model config dict\n",
    "model_config = ssms.config.model_config[MODEL]"
   ]
  },
  {
   "cell_type": "code",
   "execution_count": 4,
   "metadata": {},
   "outputs": [
    {
     "name": "stdout",
     "output_type": "stream",
     "text": [
      "0\n",
      "1\n",
      "2\n",
      "3\n",
      "4\n"
     ]
    }
   ],
   "source": [
    "# MAKE DATA\n",
    "my_dataset_generator = ssms.dataset_generators.lan_mlp.data_generator(\n",
    "    generator_config=generator_config, model_config=model_config\n",
    ")\n",
    "\n",
    "for i in range(N_DATA_FILES):\n",
    "    print(i)\n",
    "    training_data = my_dataset_generator.generate_data_training_uniform(save=True)"
   ]
  },
  {
   "cell_type": "markdown",
   "metadata": {},
   "source": [
    "#### Prepare for Training\n",
    "\n",
    "Next we set up dataloaders for training with pytorch. The `LANfactory` uses custom dataloaders, taking into account particularities of the expected training data.\n",
    "Specifically, we expect to receive a bunch of training data files (the present example generates only one), where each file hosts a large number of training examples. \n",
    "So we want to define a dataloader which spits out batches from data with a specific training data file, and keeps checking when to load in a new file. \n",
    "The way this is implemented here, is via the `DatasetTorch` class in `lanfactory.trainers`, which inherits from `torch.utils.data.Dataset` and prespecifies a `batch_size`. Finally this is supplied to a [`DataLoader`](https://pytorch.org/docs/stable/data.html), for which we keep the `batch_size` argument at 0.\n",
    "\n",
    "The `DatasetTorch` class is then called as an iterator via the DataLoader and takes care of batching as well as file loading internally. \n",
    "\n",
    "You may choose your own way of defining the `DataLoader` classes, downstream you are simply expected to supply one."
   ]
  },
  {
   "cell_type": "code",
   "execution_count": 5,
   "metadata": {},
   "outputs": [],
   "source": [
    "# MAKE DATALOADERS\n",
    "TRAINING_TYPE = \"cpn\"\n",
    "\n",
    "# List of datafiles (here only one)\n",
    "folder_ = Path(\"torch_nb_data/\") / \"cpn_mlp\" / \"training_data\"\n",
    "file_list_ = list(folder_.glob(\"*\"))\n",
    "\n",
    "# Training dataset\n",
    "torch_training_dataset = lanfactory.trainers.DatasetTorch(\n",
    "    file_ids=file_list_,\n",
    "    batch_size=BATCH_SIZE,\n",
    "    features_key=f\"{TRAINING_TYPE}_data\",\n",
    "    label_key=f\"{TRAINING_TYPE}_labels\",\n",
    ")\n",
    "\n",
    "torch_training_dataloader = torch.utils.data.DataLoader(\n",
    "    torch_training_dataset,\n",
    "    shuffle=True,\n",
    "    batch_size=None,\n",
    "    num_workers=1,\n",
    "    pin_memory=True,\n",
    ")\n",
    "\n",
    "# Validation dataset\n",
    "torch_validation_dataset = lanfactory.trainers.DatasetTorch(\n",
    "    file_ids=file_list_,\n",
    "    batch_size=BATCH_SIZE,\n",
    "    features_key=f\"{TRAINING_TYPE}_data\",\n",
    "    label_key=f\"{TRAINING_TYPE}_labels\",\n",
    ")\n",
    "\n",
    "torch_validation_dataloader = torch.utils.data.DataLoader(\n",
    "    torch_validation_dataset,\n",
    "    shuffle=True,\n",
    "    batch_size=None,\n",
    "    num_workers=1,\n",
    "    pin_memory=True,\n",
    ")"
   ]
  },
  {
   "cell_type": "markdown",
   "metadata": {},
   "source": [
    "Now we define two configuration dictionariers,\n",
    "\n",
    "1. The `network_config` dictionary defines the architecture and properties of the network\n",
    "2. The `train_config` dictionary defines properties concerning training hyperparameters\n",
    "\n",
    "Two examples (which we take as provided by the package, but which you can adjust according to your needs) are provided below."
   ]
  },
  {
   "cell_type": "code",
   "execution_count": 6,
   "metadata": {},
   "outputs": [
    {
     "name": "stdout",
     "output_type": "stream",
     "text": [
      "Network config: \n",
      "{'layer_sizes': [100, 100, 1], 'activations': ['tanh', 'tanh', 'linear'], 'train_output_type': 'logits'}\n",
      "Train config: \n",
      "{'cpu_batch_size': 1024, 'gpu_batch_size': 1024, 'n_epochs': 10, 'optimizer': 'adam', 'learning_rate': 0.002, 'lr_scheduler': 'reduce_on_plateau', 'lr_scheduler_params': {}, 'weight_decay': 0.0, 'loss': 'bcelogit', 'save_history': True}\n"
     ]
    }
   ],
   "source": [
    "# SPECIFY NETWORK CONFIGS AND TRAINING CONFIGS\n",
    "network_config = lanfactory.config.network_configs.network_config_cpn\n",
    "train_config = lanfactory.config.network_configs.train_config_cpn\n",
    "\n",
    "train_config[\"cpu_batch_size\"] = BATCH_SIZE\n",
    "train_config[\"gpu_batch_size\"] = BATCH_SIZE\n",
    "train_config[\"n_epochs\"] = N_TRAIN_EPOCHS\n",
    "\n",
    "print(\"Network config: \")\n",
    "print(network_config)\n",
    "\n",
    "print(\"Train config: \")\n",
    "print(train_config)"
   ]
  },
  {
   "cell_type": "markdown",
   "metadata": {},
   "source": [
    "We can now load a network, and save the configuration files for convenience."
   ]
  },
  {
   "cell_type": "code",
   "execution_count": 7,
   "metadata": {},
   "outputs": [
    {
     "name": "stdout",
     "output_type": "stream",
     "text": [
      "Setting network type to \"lan\" or \"cpn\" based on train_output_type. \n",
      "Note: This is only a default setting, and can be overwritten by the network_type argument.\n",
      "tanh\n",
      "tanh\n",
      "linear\n",
      "Found folder:  torch_nb_data\n",
      "Moving on...\n",
      "Found folder:  torch_nb_data/torch_models\n",
      "Moving on...\n",
      "Did not find folder:  torch_nb_data/torch_models/cpn\n",
      "Creating it...\n",
      "Did not find folder:  torch_nb_data/torch_models/cpn/ddm\n",
      "Creating it...\n",
      "Saved network config\n",
      "Saved train config\n"
     ]
    }
   ],
   "source": [
    "# LOAD NETWORK\n",
    "net = lanfactory.trainers.TorchMLP(\n",
    "    network_config=deepcopy(network_config),\n",
    "    input_shape=torch_training_dataset.input_dim,\n",
    "    save_folder=Path(\"torch_nb_data/torch_models\") / TRAINING_TYPE / MODEL,\n",
    "    generative_model_id=MODEL,\n",
    ")\n",
    "\n",
    "# SAVE CONFIGS\n",
    "lanfactory.utils.save_configs(\n",
    "    model_id=MODEL + \"_torch_\",\n",
    "    save_folder=Path(\"torch_nb_data/torch_models\") / TRAINING_TYPE / MODEL,\n",
    "    network_config=network_config,\n",
    "    train_config=train_config,\n",
    "    allow_abs_path_folder_generation=True,\n",
    ")"
   ]
  },
  {
   "cell_type": "markdown",
   "metadata": {},
   "source": [
    "To finally train the network we supply our network, the dataloaders and training config to the `ModelTrainerTorchMLP` class, from `lanfactory.trainers`."
   ]
  },
  {
   "cell_type": "code",
   "execution_count": 8,
   "metadata": {},
   "outputs": [
    {
     "name": "stdout",
     "output_type": "stream",
     "text": [
      "train_config is passed as dictionary: \n",
      "\n",
      "{'cpu_batch_size': 1024, 'gpu_batch_size': 1024, 'n_epochs': 10, 'optimizer': 'adam', 'learning_rate': 0.002, 'lr_scheduler': 'reduce_on_plateau', 'lr_scheduler_params': {}, 'weight_decay': 0.0, 'loss': 'bcelogit', 'save_history': True}\n"
     ]
    },
    {
     "name": "stderr",
     "output_type": "stream",
     "text": [
      "/Users/afengler/Library/CloudStorage/OneDrive-Personal/proj_lanfactory/LANfactory/.venv/lib/python3.11/site-packages/torch/utils/data/dataloader.py:683: UserWarning: 'pin_memory' argument is set as true but not supported on MPS now, then device pinned memory won't be used.\n",
      "  warnings.warn(warn_msg)\n"
     ]
    },
    {
     "name": "stdout",
     "output_type": "stream",
     "text": [
      "wandb not available\n",
      "wandb not available\n",
      "epoch: 0/10, batch: 0/45, batch_loss: 0.6693\n",
      "Epoch took 0 / 10, took 8.347258806228638 seconds\n",
      "wandb not available\n",
      "wandb not available\n",
      "epoch 0 / 10, validation_loss: 0.3904\n",
      "wandb not available\n",
      "wandb not available\n",
      "epoch: 1/10, batch: 0/45, batch_loss: 0.3928\n",
      "Epoch took 1 / 10, took 7.660676002502441 seconds\n",
      "wandb not available\n",
      "wandb not available\n",
      "epoch 1 / 10, validation_loss: 0.3541\n",
      "wandb not available\n",
      "wandb not available\n",
      "epoch: 2/10, batch: 0/45, batch_loss: 0.3509\n",
      "Epoch took 2 / 10, took 7.549731969833374 seconds\n",
      "wandb not available\n",
      "wandb not available\n",
      "epoch 2 / 10, validation_loss: 0.3444\n",
      "wandb not available\n",
      "wandb not available\n",
      "epoch: 3/10, batch: 0/45, batch_loss: 0.3561\n",
      "Epoch took 3 / 10, took 7.461402177810669 seconds\n",
      "wandb not available\n",
      "wandb not available\n",
      "epoch 3 / 10, validation_loss: 0.3462\n",
      "wandb not available\n",
      "wandb not available\n",
      "epoch: 4/10, batch: 0/45, batch_loss: 0.3507\n",
      "Epoch took 4 / 10, took 7.4325032234191895 seconds\n",
      "wandb not available\n",
      "wandb not available\n",
      "epoch 4 / 10, validation_loss: 0.3426\n",
      "wandb not available\n",
      "wandb not available\n",
      "epoch: 5/10, batch: 0/45, batch_loss: 0.3301\n",
      "Epoch took 5 / 10, took 7.649561643600464 seconds\n",
      "wandb not available\n",
      "wandb not available\n",
      "epoch 5 / 10, validation_loss: 0.3416\n",
      "wandb not available\n",
      "wandb not available\n",
      "epoch: 6/10, batch: 0/45, batch_loss: 0.3426\n",
      "Epoch took 6 / 10, took 7.605005979537964 seconds\n",
      "wandb not available\n",
      "wandb not available\n",
      "epoch 6 / 10, validation_loss: 0.3424\n",
      "wandb not available\n",
      "wandb not available\n",
      "epoch: 7/10, batch: 0/45, batch_loss: 0.3360\n",
      "Epoch took 7 / 10, took 7.47084903717041 seconds\n",
      "wandb not available\n",
      "wandb not available\n",
      "epoch 7 / 10, validation_loss: 0.3455\n",
      "wandb not available\n",
      "wandb not available\n",
      "epoch: 8/10, batch: 0/45, batch_loss: 0.3381\n",
      "Epoch took 8 / 10, took 7.247908115386963 seconds\n",
      "wandb not available\n",
      "wandb not available\n",
      "epoch 8 / 10, validation_loss: 0.341\n",
      "wandb not available\n",
      "wandb not available\n",
      "epoch: 9/10, batch: 0/45, batch_loss: 0.3372\n",
      "Epoch took 9 / 10, took 7.638092756271362 seconds\n",
      "wandb not available\n",
      "wandb not available\n",
      "epoch 9 / 10, validation_loss: 0.3411\n"
     ]
    }
   ],
   "source": [
    "# TRAIN MODEL\n",
    "model_trainer = lanfactory.trainers.ModelTrainerTorchMLP(\n",
    "    model=net,\n",
    "    train_config=train_config,\n",
    "    train_dl=torch_training_dataloader,\n",
    "    valid_dl=torch_validation_dataloader,\n",
    "    allow_abs_path_folder_generation=False,\n",
    "    pin_memory=True,\n",
    "    seed=None,\n",
    ")\n",
    "\n",
    "# model_trainer.train_model(save_history=True, save_model=True, verbose=0)\n",
    "model_trainer.train_and_evaluate(\n",
    "    wandb_on=False,\n",
    "    output_folder=Path(\"torch_nb_data/torch_models\") / TRAINING_TYPE / MODEL,\n",
    "    output_file_id=MODEL,\n",
    ")\n",
    "# LOAD MODEL"
   ]
  },
  {
   "cell_type": "markdown",
   "metadata": {},
   "source": [
    "#### Load Model for Inference and Call"
   ]
  },
  {
   "cell_type": "markdown",
   "metadata": {},
   "source": [
    "The `LANfactory` provides some convenience functions to use networks for inference after training. \n",
    "We can load a model using the `LoadTorchMLPInfer` class, which then allows us to run fast inference via either\n",
    "a direct call, which expects a `torch.tensor` as input, or the `predict_on_batch` method, which expects a `numpy.array` \n",
    "of `dtype`, `np.float32`. "
   ]
  },
  {
   "cell_type": "code",
   "execution_count": 9,
   "metadata": {},
   "outputs": [
    {
     "name": "stdout",
     "output_type": "stream",
     "text": [
      "tanh\n",
      "tanh\n",
      "linear\n"
     ]
    }
   ],
   "source": [
    "model_path = Path(\"torch_nb_data/torch_models\") / TRAINING_TYPE / MODEL\n",
    "network_file_path = next(model_path.glob(\"*state_dict*\"))\n",
    "\n",
    "network = lanfactory.trainers.LoadTorchMLPInfer(\n",
    "    model_file_path=network_file_path,\n",
    "    network_config=network_config,\n",
    "    input_dim=torch_training_dataset.input_dim,\n",
    "    network_type=TRAINING_TYPE,\n",
    ")"
   ]
  },
  {
   "cell_type": "code",
   "execution_count": 33,
   "metadata": {},
   "outputs": [
    {
     "name": "stdout",
     "output_type": "stream",
     "text": [
      "direct call out:  tensor([-0.7105])\n",
      "predict_on_batch out:  [-0.71050066]\n"
     ]
    }
   ],
   "source": [
    "# Two ways to call the network\n",
    "\n",
    "# Direct call --> need tensor input\n",
    "direct_out = network(\n",
    "    torch.from_numpy(np.array(ssms.config.model_config[MODEL]['default_params'], dtype=np.float32))\n",
    ")\n",
    "print(\"direct call out: \", direct_out)\n",
    "\n",
    "# predict_on_batch method\n",
    "predict_on_batch_out = network.predict_on_batch(\n",
    "    np.array(ssms.config.model_config[MODEL]['default_params'], dtype=np.float32)\n",
    ")\n",
    "print(\"predict_on_batch out: \", predict_on_batch_out)"
   ]
  },
  {
   "cell_type": "markdown",
   "metadata": {},
   "source": [
    "#### A peek into the first passage distribution computed by the network\n",
    "\n",
    "We can compare the learned likelihood function in our `network` with simulation data from the underlying generative model.\n",
    "For this purpose we recruit the [`ssms`](https://github.com/AlexanderFengler/ssm_simulators) package again."
   ]
  },
  {
   "cell_type": "code",
   "execution_count": 36,
   "metadata": {},
   "outputs": [],
   "source": [
    "from ssms.basic_simulators.simulator import simulator\n",
    "def plot_parameter_comparison(network,\n",
    "                              simulator,\n",
    "                              model, \n",
    "                              x_param, \n",
    "                              x_range,\n",
    "                              alpha_param, \n",
    "                              alpha_range,\n",
    "                              fixed_params=None, \n",
    "                              n_samples=5000,\n",
    "                              n_x_points=2000,\n",
    "                              n_alpha_points=10):\n",
    "    \"\"\"\n",
    "    Plot network predictions vs simulations for varying parameters.\n",
    "    \n",
    "    Parameters:\n",
    "    -----------\n",
    "    network : object\n",
    "        Trained network with predict_on_batch method\n",
    "    simulator : object\n",
    "        Simulator object with simulator method\n",
    "    model : str\n",
    "        Model name for simulator\n",
    "    x_param : str\n",
    "        Parameter to vary on x-axis (e.g., 'a', 'v', 'z', 't', 'deadline')\n",
    "    x_range : tuple\n",
    "        Range for x parameter (min, max)\n",
    "    alpha_param : str\n",
    "        Parameter to vary for different alpha levels (e.g., 'deadline', 'v', 'z', 't')\n",
    "    alpha_range : tuple\n",
    "        Range for alpha parameter (min, max)\n",
    "    fixed_params : dict, optional\n",
    "        Dictionary of fixed parameter values (e.g., {'v': 0.0, 'z': 0.5, 't': 0.5})\n",
    "    n_samples : int, optional\n",
    "        Number of simulation samples (default: 5000)\n",
    "    n_x_points : int, optional\n",
    "        Number of points for x-axis (default: 2000)\n",
    "    n_alpha_points : int, optional\n",
    "        Number of alpha levels (default: 20)\n",
    "    \n",
    "    Returns:\n",
    "    --------\n",
    "    tuple\n",
    "        (network_predictions, simulation_results, x_values, alpha_values)\n",
    "    \"\"\"\n",
    "    import pandas as pd\n",
    "    import numpy as np\n",
    "    import matplotlib.pyplot as plt\n",
    "    import matplotlib.patches as mpatches\n",
    "    \n",
    "    # Set default fixed parameters if none provided\n",
    "    if fixed_params is None:\n",
    "        fixed_params = {'v': 0.0, 'z': 0.5, 't': 0.5, 'deadline': 2.0}\n",
    "\n",
    "    all_param_names = ssms.config.model_config[model.replace(\"_deadline\", \"\")]['params']\n",
    "    \n",
    "    # Create base dataframe for simulator inputs\n",
    "    data_sim = pd.DataFrame(\n",
    "        np.zeros((n_x_points, len(all_param_names)), dtype=np.float32),\n",
    "        columns=all_param_names,\n",
    "    )\n",
    "\n",
    "    # Set fixed parameters\n",
    "    for param, value in fixed_params.items():\n",
    "        data_sim[param] = value\n",
    "\n",
    "    # Set x parameter range\n",
    "    data_sim[x_param] = np.linspace(x_range[0], x_range[1], n_x_points)\n",
    "\n",
    "    # Initialize network data\n",
    "    data_network = deepcopy(data_sim)\n",
    "    \n",
    "    # Network predictions\n",
    "    network_predictions = []\n",
    "    \n",
    "    # Simulations\n",
    "    n_alpha = n_alpha_points\n",
    "    n_x_sim = 40  # Number of simulation points for x-axis\n",
    "    simulation_results = np.zeros((n_alpha, n_x_sim))\n",
    "    \n",
    "    # Generate alpha values\n",
    "    alpha_values = np.linspace(alpha_range[0], alpha_range[1], n_alpha)\n",
    "    x_sim_values = np.linspace(x_range[0], x_range[1], n_x_sim)\n",
    "    x_network_values = np.linspace(x_range[0], x_range[1], n_x_points)\n",
    "\n",
    "    data_network[x_param] = x_network_values\n",
    "    # data_sim[x_param] = x_network_values\n",
    "\n",
    "    for i, alpha_val in enumerate(alpha_values):\n",
    "        # Set alpha parameter\n",
    "        data_network[alpha_param] = alpha_val\n",
    "        # data_nework[x_param] = x_sim_values\n",
    "        # Get network predictions for all x values\n",
    "        network_predictions.append(network.predict_on_batch(data_network.values.astype(np.float32)))\n",
    "        \n",
    "        # Run simulations for subset of x values\n",
    "        for j, x_val in enumerate(x_sim_values):\n",
    "            data_sim[x_param] = x_val\n",
    "            data_sim[alpha_param] = alpha_val\n",
    "            sim_out = simulator(model=model, theta=data_sim.values[0, :], n_samples=n_samples)\n",
    "            simulation_results[i, j] = sim_out[\"choice_p\"][0, 1]\n",
    "    \n",
    "    # Plotting\n",
    "    plt.figure(figsize=(10, 6))\n",
    "    \n",
    "    # Plot network predictions\n",
    "    for i in range(n_alpha):\n",
    "        alpha_val = alpha_values[i]\n",
    "        plt.plot(\n",
    "            x_network_values,\n",
    "            np.exp(network_predictions[i]),\n",
    "            color=\"black\",\n",
    "            label=\"network\" if i == 0 else None,\n",
    "            alpha=(i + 1) / n_alpha,\n",
    "        )\n",
    "        \n",
    "        plt.plot(\n",
    "            x_sim_values,\n",
    "            simulation_results[i, :],\n",
    "            color=\"red\",\n",
    "            label=\"simulations\" if i == 0 else None,\n",
    "            alpha=(i + 1) / n_alpha,\n",
    "        )\n",
    "\n",
    "    # Create a simple legend showing the alpha parameter range\n",
    "    legend_elements = [\n",
    "        mpatches.Patch(color='gray', alpha=0.2, label=f'{alpha_param}: {alpha_range[0]:.2f}'),\n",
    "        mpatches.Patch(color='gray', alpha=0.8, label=f'{alpha_param}: {alpha_range[1]:.2f}')\n",
    "    ]\n",
    "    plt.legend(handles=legend_elements,\n",
    "               title=f'{alpha_param} range',\n",
    "               loc = \"lower right\")\n",
    "\n",
    "    \n",
    "    # plt.legend()\n",
    "    plt.legend(handles=legend_elements, title=\"\") #f'{alpha_param} range')  # This should replace it\n",
    "    plt.title(f\"Choice probability vs {x_param}\")\n",
    "    plt.xlabel(x_param)\n",
    "    plt.ylabel(\"choice probability\")\n",
    "    plt.grid(True, alpha=0.3)\n",
    "    plt.show()"
   ]
  },
  {
   "cell_type": "code",
   "execution_count": 37,
   "metadata": {},
   "outputs": [
    {
     "data": {
      "image/png": "[encoded data removed]",
      "text/plain": [
       "<Figure size 1000x600 with 1 Axes>"
      ]
     },
     "metadata": {},
     "output_type": "display_data"
    }
   ],
   "source": [
    "# Example usage:\n",
    "plot_parameter_comparison(\n",
    "    network=network,\n",
    "    simulator=simulator,\n",
    "    model=MODEL,\n",
    "    x_param=\"a\",\n",
    "    x_range=(0.75, 2.5),\n",
    "    alpha_param=\"v\",\n",
    "    alpha_range=(-2.0, 2.0),\n",
    "    fixed_params={\"z\": 0.5, \"t\": 0.5}\n",
    ")"
   ]
  },
  {
   "cell_type": "markdown",
   "metadata": {},
   "source": [
    "We hope this package may be helpful in case you attempt to train [LANs](https://elifesciences.org/articles/65074) for your own research."
   ]
  },
  {
   "cell_type": "markdown",
   "metadata": {},
   "source": [
    "#### END"
   ]
  }
 ],
 "metadata": {
  "kernelspec": {
   "display_name": ".venv",
   "language": "python",
   "name": "python3"
  },
  "language_info": {
   "codemirror_mode": {
    "name": "ipython",
    "version": 3
   },
   "file_extension": ".py",
   "mimetype": "text/x-python",
   "name": "python",
   "nbconvert_exporter": "python",
   "pygments_lexer": "ipython3",
   "version": "3.11.12"
  },
  "orig_nbformat": 4
 },
 "nbformat": 4,
 "nbformat_minor": 2
}
