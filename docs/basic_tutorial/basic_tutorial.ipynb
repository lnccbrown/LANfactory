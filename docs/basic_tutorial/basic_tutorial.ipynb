{
 "cells": [
  {
   "cell_type": "markdown",
   "metadata": {},
   "source": [
    "### Quick Start"
   ]
  },
  {
   "cell_type": "markdown",
   "metadata": {},
   "source": [
    "\n",
    "The `LANfactory` package is a light-weight convenience package for training `likelihood approximation networks` (LANs) in torch (or keras), \n",
    "starting from supplied training data.\n",
    "\n",
    "[LANs](https://elifesciences.org/articles/65074), although more general in potential scope of applications, were conceived in the context of sequential sampling modeling\n",
    "to account for cognitive processes giving rise to *choice* and *reaction time* data in *n-alternative forced choice experiments* commonly encountered in the cognitive sciences.\n",
    "\n",
    "In this quick tutorial we will use the [`ssms`](https://github.com/AlexanderFengler/ssm_simulators) package to generate our training data using such a sequential sampling model (SSM). The use of of the `LANfactory` package is in no way bound to utilize this `ssms` package."
   ]
  },
  {
   "cell_type": "markdown",
   "metadata": {},
   "source": [
    "#### Install\n",
    "\n",
    "To install the `ssms` package type,\n",
    "\n",
    "`pip install git+https://github.com/AlexanderFengler/ssm_simulators`\n",
    "\n",
    "To install the `LANfactory` package type,\n",
    "\n",
    "`pip install git+https://github.com/AlexanderFengler/LANfactory`\n",
    "\n",
    "Necessary dependency should be installed automatically in the process."
   ]
  },
  {
   "cell_type": "markdown",
   "metadata": {},
   "source": [
    "#### Basic Tutorial"
   ]
  },
  {
   "cell_type": "code",
   "execution_count": 1,
   "metadata": {},
   "outputs": [
    {
     "name": "stdout",
     "output_type": "stream",
     "text": [
      "wandb not available\n",
      "wandb not available\n"
     ]
    }
   ],
   "source": [
    "# Load necessary packages\n",
    "import ssms\n",
    "import lanfactory\n",
    "import os\n",
    "import numpy as np\n",
    "from copy import deepcopy\n",
    "import torch"
   ]
  },
  {
   "cell_type": "code",
   "execution_count": 2,
   "metadata": {},
   "outputs": [],
   "source": [
    "MODEL = \"angle\"\n",
    "RUN_SIMS = False\n",
    "DEVICE = \"cpu\""
   ]
  },
  {
   "cell_type": "markdown",
   "metadata": {},
   "source": [
    "#### Generate Training Data\n",
    "First we need to generate some training data. As mentioned above we will do so using the `ssms` python package, however without delving into a detailed explanation\n",
    "of this package. Please refer to the [basic ssms tutorial] (https://github.com/AlexanderFengler/ssm_simulators) in case you want to learn more."
   ]
  },
  {
   "cell_type": "code",
   "execution_count": 3,
   "metadata": {},
   "outputs": [],
   "source": [
    "# MAKE CONFIGS\n",
    "\n",
    "# Initialize the generator config (for MLP LANs)\n",
    "generator_config = deepcopy(ssms.config.data_generator_config[\"lan\"])\n",
    "# Specify generative model (one from the list of included models mentioned above)\n",
    "generator_config[\"model\"] = MODEL\n",
    "# Specify number of parameter sets to simulate\n",
    "generator_config[\"n_parameter_sets\"] = 256\n",
    "# Specify how many samples a simulation run should entail\n",
    "generator_config[\"n_samples\"] = 1000\n",
    "# Specify folder in which to save generated data\n",
    "generator_config[\"output_folder\"] = \"data/lan_mlp/\" + MODEL + \"/\"\n",
    "\n",
    "# Make model config dict\n",
    "model_config = ssms.config.model_config[MODEL]"
   ]
  },
  {
   "cell_type": "code",
   "execution_count": 4,
   "metadata": {},
   "outputs": [],
   "source": [
    "# MAKE DATA\n",
    "if RUN_SIMS:\n",
    "    my_dataset_generator = ssms.dataset_generators.lan_mlp.data_generator(\n",
    "        generator_config=generator_config, model_config=model_config\n",
    "    )\n",
    "\n",
    "    training_data = my_dataset_generator.generate_data_training_uniform(save=True)"
   ]
  },
  {
   "cell_type": "markdown",
   "metadata": {},
   "source": [
    "#### Prepare for Training\n",
    "\n",
    "Next we set up dataloaders for training with pytorch. The `LANfactory` uses custom dataloaders, taking into account particularities of the expected training data.\n",
    "Specifically, we expect to receive a bunch of training data files (the present example generates only one), where each file hosts a large number of training examples. \n",
    "So we want to define a dataloader which spits out batches from data with a specific training data file, and keeps checking when to load in a new file. \n",
    "The way this is implemented here, is via the `DatasetTorch` class in `lanfactory.trainers`, which inherits from `torch.utils.data.Dataset` and prespecifies a `batch_size`. Finally this is supplied to a [`DataLoader`](https://pytorch.org/docs/stable/data.html), for which we keep the `batch_size` argument at 0.\n",
    "\n",
    "The `DatasetTorch` class is then called as an iterator via the DataLoader and takes care of batching as well as file loading internally. \n",
    "\n",
    "You may choose your own way of defining the `DataLoader` classes, downstream you are simply expected to supply one."
   ]
  },
  {
   "cell_type": "code",
   "execution_count": 5,
   "metadata": {},
   "outputs": [],
   "source": [
    "# MAKE DATALOADERS\n",
    "\n",
    "# List of datafiles (here only one)\n",
    "folder_ = os.path.join(\"data\", \"lan_mlp\", MODEL)\n",
    "file_list_ = [os.path.join(folder_, file_) for file_ in os.listdir(folder_)]\n",
    "\n",
    "# Training dataset\n",
    "torch_training_dataset = lanfactory.trainers.DatasetTorch(\n",
    "    file_ids=file_list_,\n",
    "    batch_size=128,\n",
    "    features_key=\"lan_data\",\n",
    "    label_key=\"lan_labels\",\n",
    ")\n",
    "\n",
    "torch_training_dataloader = torch.utils.data.DataLoader(\n",
    "    torch_training_dataset,\n",
    "    shuffle=True,\n",
    "    batch_size=None,\n",
    "    num_workers=1,\n",
    "    pin_memory=True,\n",
    ")\n",
    "\n",
    "# Validation dataset\n",
    "torch_validation_dataset = lanfactory.trainers.DatasetTorch(\n",
    "    file_ids=file_list_,\n",
    "    batch_size=128,\n",
    "    features_key=\"lan_data\",\n",
    "    label_key=\"lan_labels\",\n",
    ")\n",
    "\n",
    "torch_validation_dataloader = torch.utils.data.DataLoader(\n",
    "    torch_validation_dataset,\n",
    "    shuffle=True,\n",
    "    batch_size=None,\n",
    "    num_workers=1,\n",
    "    pin_memory=True,\n",
    ")"
   ]
  },
  {
   "cell_type": "markdown",
   "metadata": {},
   "source": [
    "Now we define two configuration dictionariers,\n",
    "\n",
    "1. The `network_config` dictionary defines the architecture and properties of the network\n",
    "2. The `train_config` dictionary defines properties concerning training hyperparameters\n",
    "\n",
    "Two examples (which we take as provided by the package, but which you can adjust according to your needs) are provided below."
   ]
  },
  {
   "cell_type": "code",
   "execution_count": 6,
   "metadata": {},
   "outputs": [
    {
     "name": "stdout",
     "output_type": "stream",
     "text": [
      "Network config: \n",
      "{'layer_sizes': [100, 100, 1], 'activations': ['tanh', 'tanh', 'linear'], 'train_output_type': 'logprob'}\n",
      "Train config: \n",
      "{'cpu_batch_size': 128, 'gpu_batch_size': 256, 'n_epochs': 5, 'optimizer': 'adam', 'learning_rate': 0.002, 'lr_scheduler': 'reduce_on_plateau', 'lr_scheduler_params': {}, 'weight_decay': 0.0, 'loss': 'huber', 'save_history': True}\n"
     ]
    }
   ],
   "source": [
    "# SPECIFY NETWORK CONFIGS AND TRAINING CONFIGS\n",
    "\n",
    "network_config = lanfactory.config.network_configs.network_config_mlp\n",
    "\n",
    "print(\"Network config: \")\n",
    "print(network_config)\n",
    "\n",
    "train_config = lanfactory.config.network_configs.train_config_mlp\n",
    "\n",
    "print(\"Train config: \")\n",
    "print(train_config)"
   ]
  },
  {
   "cell_type": "markdown",
   "metadata": {},
   "source": [
    "We can now load a network, and save the configuration files for convenience."
   ]
  },
  {
   "cell_type": "code",
   "execution_count": 7,
   "metadata": {},
   "outputs": [
    {
     "name": "stdout",
     "output_type": "stream",
     "text": [
      "Setting network type to \"lan\" or \"cpn\" based on train_output_type. \n",
      "Note: This is only a default setting, and can be overwritten by the network_type argument.\n",
      "tanh\n",
      "tanh\n",
      "linear\n",
      "Found folder:  data\n",
      "Moving on...\n",
      "Found folder:  data/torch_models\n",
      "Moving on...\n",
      "Found folder:  data/torch_models/angle\n",
      "Moving on...\n",
      "Saved network config\n",
      "Saved train config\n"
     ]
    }
   ],
   "source": [
    "# LOAD NETWORK\n",
    "net = lanfactory.trainers.TorchMLP(\n",
    "    network_config=deepcopy(network_config),\n",
    "    input_shape=torch_training_dataset.input_dim,\n",
    "    save_folder=os.path.join(\"data\", \"torch_models\"),\n",
    "    generative_model_id=MODEL,\n",
    ")\n",
    "\n",
    "# SAVE CONFIGS\n",
    "lanfactory.utils.save_configs(\n",
    "    model_id=MODEL + \"_torch_\",\n",
    "    save_folder=os.path.join(\"data\", \"torch_models\", MODEL),\n",
    "    network_config=network_config,\n",
    "    train_config=train_config,\n",
    "    allow_abs_path_folder_generation=True,\n",
    ")"
   ]
  },
  {
   "cell_type": "markdown",
   "metadata": {},
   "source": [
    "To finally train the network we supply our network, the dataloaders and training config to the `ModelTrainerTorchMLP` class, from `lanfactory.trainers`."
   ]
  },
  {
   "cell_type": "code",
   "execution_count": 8,
   "metadata": {},
   "outputs": [
    {
     "name": "stdout",
     "output_type": "stream",
     "text": [
      "Torch Device:  cpu\n",
      "train_config is passed as dictionary: \n",
      "{'cpu_batch_size': 128, 'gpu_batch_size': 256, 'n_epochs': 5, 'optimizer': 'adam', 'learning_rate': 0.002, 'lr_scheduler': 'reduce_on_plateau', 'lr_scheduler_params': {}, 'weight_decay': 0.0, 'loss': 'huber', 'save_history': True}\n",
      "{'cpu_batch_size': 128, 'gpu_batch_size': 256, 'n_epochs': 5, 'optimizer': 'adam', 'learning_rate': 0.002, 'lr_scheduler': 'reduce_on_plateau', 'lr_scheduler_params': {}, 'weight_decay': 0.0, 'loss': 'huber', 'save_history': True}\n",
      "Found folder:  data\n",
      "Moving on...\n",
      "name 'wandb' is not defined\n",
      "wandb not available, not storing results there\n",
      "passing 4\n",
      "name 'wandb' is not defined\n"
     ]
    },
    {
     "name": "stderr",
     "output_type": "stream",
     "text": [
      "/Users/afengler/miniconda3/envs/lanfactory/lib/python3.11/site-packages/torch/optim/lr_scheduler.py:62: UserWarning: The verbose parameter is deprecated. Please use get_last_lr() to access the learning rate.\n",
      "  warnings.warn(\n"
     ]
    },
    {
     "name": "stdout",
     "output_type": "stream",
     "text": [
      "wandb not available\n",
      "wandb not available\n",
      "Epoch took 0 / 5,  took 61.04134392738342 seconds\n",
      "wandb not available\n",
      "wandb not available\n",
      "epoch 0 / 5, validation_loss: 252.3\n",
      "passing 5\n",
      "name 'wandb' is not defined\n",
      "wandb not available\n",
      "wandb not available\n",
      "Epoch took 1 / 5,  took 79.91255497932434 seconds\n",
      "wandb not available\n",
      "wandb not available\n",
      "epoch 1 / 5, validation_loss: 280.4\n",
      "passing 5\n",
      "name 'wandb' is not defined\n",
      "wandb not available\n",
      "wandb not available\n",
      "Epoch took 2 / 5,  took 102.32647395133972 seconds\n",
      "wandb not available\n",
      "wandb not available\n",
      "epoch 2 / 5, validation_loss: 266.4\n",
      "passing 5\n",
      "name 'wandb' is not defined\n",
      "wandb not available\n",
      "wandb not available\n",
      "Epoch took 3 / 5,  took 97.02133464813232 seconds\n",
      "wandb not available\n",
      "wandb not available\n",
      "epoch 3 / 5, validation_loss: 242.3\n",
      "passing 5\n",
      "name 'wandb' is not defined\n",
      "wandb not available\n",
      "wandb not available\n",
      "Epoch took 4 / 5,  took 98.18418788909912 seconds\n",
      "wandb not available\n",
      "wandb not available\n",
      "epoch 4 / 5, validation_loss: 237.9\n",
      "passing 5\n",
      "name 'wandb' is not defined\n",
      "Saving training history\n",
      "Saving training history to: data/fileid_lan_runid_torch_training_history.csv\n",
      "Saving model state dict\n",
      "Saving model parameters to: data/fileid_lan_runid_train_state_dict_torch.pt\n",
      "Saving training config to: data/fileid_lan_runid_train_config.pickle\n",
      "Saving training data details to: data/fileid_lan_runid_data_details.pickle\n",
      "Saving model to ONNX format\n",
      "Saving model to ONNX format to: data/fileid_lan_runid_torch_model.onnx\n",
      "passing 6\n",
      "name 'wandb' is not defined\n",
      "Training finished successfully...\n"
     ]
    }
   ],
   "source": [
    "# TRAIN MODEL\n",
    "model_trainer = lanfactory.trainers.ModelTrainerTorchMLP(\n",
    "    model=net,\n",
    "    train_config=train_config,\n",
    "    train_dl=torch_training_dataloader,\n",
    "    valid_dl=torch_validation_dataloader,\n",
    "    allow_abs_path_folder_generation=False,\n",
    "    pin_memory=True,\n",
    "    seed=None,\n",
    ")\n",
    "\n",
    "model_trainer.train_and_evaluate(verbose=0)"
   ]
  },
  {
   "cell_type": "markdown",
   "metadata": {},
   "source": [
    "#### Load Model for Inference and Call"
   ]
  },
  {
   "cell_type": "markdown",
   "metadata": {},
   "source": [
    "The `LANfactory` provides some convenience functions to use networks for inference after training. \n",
    "We can load a model using the `LoadTorchMLPInfer` class, which then allows us to run fast inference via either\n",
    "a direct call, which expects a `torch.tensor` as input, or the `predict_on_batch` method, which expects a `numpy.array` \n",
    "of `dtype`, `np.float32`. "
   ]
  },
  {
   "cell_type": "code",
   "execution_count": 9,
   "metadata": {},
   "outputs": [
    {
     "name": "stdout",
     "output_type": "stream",
     "text": [
      "Setting network type to \"lan\" or \"cpn\" based on train_output_type. \n",
      "Note: This is only a default setting, and can be overwritten by the network_type argument.\n",
      "tanh\n",
      "tanh\n",
      "linear\n"
     ]
    },
    {
     "name": "stderr",
     "output_type": "stream",
     "text": [
      "/Users/afengler/Library/CloudStorage/OneDrive-Personal/project_lanfactory/LANfactory/lanfactory/trainers/torch_mlp.py:715: FutureWarning: You are using `torch.load` with `weights_only=False` (the current default value), which uses the default pickle module implicitly. It is possible to construct malicious pickle data which will execute arbitrary code during unpickling (See https://github.com/pytorch/pytorch/blob/main/SECURITY.md#untrusted-models for more details). In a future release, the default value for `weights_only` will be flipped to `True`. This limits the functions that could be executed during unpickling. Arbitrary objects will no longer be allowed to be loaded via this mode unless they are explicitly allowlisted by the user via `torch.serialization.add_safe_globals`. We recommend you start setting `weights_only=True` for any use case where you don't have full control of the loaded file. Please open an issue on GitHub for any issues related to this experimental feature.\n",
      "  torch.load(self.model_file_path, map_location=torch.device(\"cpu\"))\n"
     ]
    }
   ],
   "source": [
    "network_path_list = os.listdir(os.path.join(\"data\", \"torch_models\", MODEL))\n",
    "network_file_path = [\n",
    "    os.path.join(\"data\", \"torch_models\", MODEL, file_)\n",
    "    for file_ in network_path_list\n",
    "    if \"state_dict\" in file_\n",
    "][0]\n",
    "\n",
    "network = lanfactory.trainers.LoadTorchMLPInfer(\n",
    "    model_file_path=network_file_path,\n",
    "    network_config=network_config,\n",
    "    input_dim=torch_training_dataset.input_dim,\n",
    ")"
   ]
  },
  {
   "cell_type": "code",
   "execution_count": 10,
   "metadata": {},
   "outputs": [
    {
     "name": "stdout",
     "output_type": "stream",
     "text": [
      "direct call out:  tensor([-66.0045])\n",
      "predict_on_batch out:  [-66.00449]\n"
     ]
    }
   ],
   "source": [
    "# Two ways to call the network\n",
    "\n",
    "# Direct call --> need tensor input\n",
    "direct_out = network(\n",
    "    torch.from_numpy(np.array([1, 1.5, 0.5, 1.0, 0.1, 0.65, 1], dtype=np.float32))\n",
    ")\n",
    "print(\"direct call out: \", direct_out)\n",
    "\n",
    "# predict_on_batch method\n",
    "predict_on_batch_out = network.predict_on_batch(\n",
    "    np.array([1, 1.5, 0.5, 1.0, 0.1, 0.65, 1], dtype=np.float32)\n",
    ")\n",
    "print(\"predict_on_batch out: \", predict_on_batch_out)"
   ]
  },
  {
   "cell_type": "markdown",
   "metadata": {},
   "source": [
    "#### A peek into the first passage distribution computed by the network\n",
    "\n",
    "We can compare the learned likelihood function in our `network` with simulation data from the underlying generative model.\n",
    "For this purpose we recruit the [`ssms`](https://github.com/AlexanderFengler/ssm_simulators) package again."
   ]
  },
  {
   "cell_type": "code",
   "execution_count": 11,
   "metadata": {},
   "outputs": [],
   "source": [
    "import pandas as pd\n",
    "import matplotlib.pyplot as plt\n",
    "from ssms.basic_simulators.simulator import simulator\n",
    "\n",
    "data = pd.DataFrame(\n",
    "    np.zeros((2000, 7), dtype=np.float32),\n",
    "    columns=[\"v\", \"a\", \"z\", \"t\", \"theta\", \"rt\", \"choice\"],\n",
    ")\n",
    "data[\"v\"] = 0.5\n",
    "data[\"a\"] = 0.75\n",
    "data[\"z\"] = 0.5\n",
    "data[\"t\"] = 0.2\n",
    "data[\"theta\"] = 0.1\n",
    "data.loc[np.arange(0, 1000), \"rt\"] = np.linspace(5, 0, 1000).astype(np.float32)\n",
    "data.loc[np.arange(1000, 2000), \"rt\"] = np.linspace(0, 5, 1000).astype(np.float32)\n",
    "data.loc[np.arange(0, 1000), \"choice\"] = -1\n",
    "data.loc[np.arange(1000, 2000), \"choice\"] = 1\n",
    "\n",
    "# Network predictions\n",
    "predict_on_batch_out = network.predict_on_batch(data.values.astype(np.float32))\n",
    "\n",
    "# Simulations\n",
    "sim_out = simulator(model=MODEL, theta=data.values[0, :-2], n_samples=2000)"
   ]
  },
  {
   "cell_type": "code",
   "execution_count": 12,
   "metadata": {},
   "outputs": [
    {
     "data": {
      "text/plain": [
       "Text(0, 0.5, 'likelihod')"
      ]
     },
     "execution_count": 12,
     "metadata": {},
     "output_type": "execute_result"
    },
    {
     "data": {
      "image/png": "[encoded data removed]",
      "text/plain": [
       "<Figure size 640x480 with 1 Axes>"
      ]
     },
     "metadata": {},
     "output_type": "display_data"
    }
   ],
   "source": [
    "# Plot network predictions\n",
    "plt.plot(\n",
    "    data[\"rt\"] * data[\"choice\"],\n",
    "    np.exp(predict_on_batch_out),\n",
    "    color=\"black\",\n",
    "    label=\"network\",\n",
    ")\n",
    "\n",
    "# Plot simulations\n",
    "plt.hist(\n",
    "    sim_out[\"rts\"] * sim_out[\"choices\"],\n",
    "    bins=100,\n",
    "    histtype=\"step\",\n",
    "    label=\"simulations\",\n",
    "    color=\"blue\",\n",
    "    density=True,\n",
    ")\n",
    "plt.legend()\n",
    "plt.title(\"SSM likelihood\")\n",
    "plt.xlabel(\"rt\")\n",
    "plt.ylabel(\"likelihod\")"
   ]
  },
  {
   "cell_type": "code",
   "execution_count": 13,
   "metadata": {},
   "outputs": [],
   "source": [
    "import pandas as pd\n",
    "import matplotlib.pyplot as plt\n",
    "from ssms.basic_simulators.simulator import simulator\n",
    "\n",
    "data = pd.DataFrame(\n",
    "    np.zeros((2000, 7), dtype=np.float32),\n",
    "    columns=[\"v\", \"a\", \"z\", \"t\", \"theta\", \"rt\", \"choice\"],\n",
    ")\n",
    "data[\"v\"] = 0.5\n",
    "data[\"a\"] = 0.75\n",
    "data[\"z\"] = 0.5\n",
    "data[\"t\"] = 0.2\n",
    "data[\"theta\"] = 0.1\n",
    "data.loc[np.arange(0, 1000), \"rt\"] = np.linspace(20, 0, 1000).astype(np.float32)\n",
    "data.loc[np.arange(1000, 2000), \"rt\"] = np.linspace(0, 20, 1000).astype(np.float32)\n",
    "data.loc[np.arange(0, 1000), \"choice\"] = -1\n",
    "data.loc[np.arange(1000, 2000), \"choice\"] = 1\n",
    "\n",
    "# Network predictions\n",
    "predict_on_batch_out = network.predict_on_batch(data.values.astype(np.float32))\n",
    "\n",
    "# Simulations\n",
    "sim_out = simulator(model=MODEL, theta=data.values[0, :-2], n_samples=2000)"
   ]
  },
  {
   "cell_type": "markdown",
   "metadata": {},
   "source": [
    "We hope this package may be helpful in case you attempt to train [LANs](https://elifesciences.org/articles/65074) for your own research."
   ]
  },
  {
   "cell_type": "markdown",
   "metadata": {},
   "source": [
    "#### END"
   ]
  }
 ],
 "metadata": {
  "kernelspec": {
   "display_name": "Python 3.8.10 ('cssm')",
   "language": "python",
   "name": "python3"
  },
  "language_info": {
   "codemirror_mode": {
    "name": "ipython",
    "version": 3
   },
   "file_extension": ".py",
   "mimetype": "text/x-python",
   "name": "python",
   "nbconvert_exporter": "python",
   "pygments_lexer": "ipython3",
   "version": "3.11.10"
  },
  "orig_nbformat": 4,
  "vscode": {
   "interpreter": {
    "hash": "c2404e761a8d4e2a34f63613cf4c9a9997cd3109cabb959a7904b2035989131a"
   }
  }
 },
 "nbformat": 4,
 "nbformat_minor": 2
}
