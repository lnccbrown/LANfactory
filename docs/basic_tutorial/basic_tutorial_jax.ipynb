{
 "cells": [
  {
   "cell_type": "markdown",
   "metadata": {},
   "source": [
    "### Basic Tutorial: Jax Version"
   ]
  },
  {
   "cell_type": "markdown",
   "metadata": {},
   "source": [
    "\n",
    "The `LANfactory` package is a light-weight convenience package for training `likelihood approximation networks` (LANs) in torch (or keras), \n",
    "starting from supplied training data.\n",
    "\n",
    "[LANs](https://elifesciences.org/articles/65074), although more general in potential scope of applications, were conceived in the context of sequential sampling modeling\n",
    "to account for cognitive processes giving rise to *choice* and *reaction time* data in *n-alternative forced choice experiments* commonly encountered in the cognitive sciences.\n",
    "\n",
    "In this quick tutorial we will use the [`ssms`](https://github.com/AlexanderFengler/ssm_simulators) package to generate our training data using such a sequential sampling model (SSM). The use of of the `LANfactory` package is in no way bound to utilize this `ssms` package."
   ]
  },
  {
   "cell_type": "markdown",
   "metadata": {},
   "source": [
    "#### Install\n",
    "\n",
    "To install the `ssms` package type,\n",
    "\n",
    "`pip install git+https://github.com/AlexanderFengler/ssm_simulators`\n",
    "\n",
    "To install the `LANfactory` package type,\n",
    "\n",
    "`pip install git+https://github.com/AlexanderFengler/LANfactory`\n",
    "\n",
    "Necessary dependency should be installed automatically in the process."
   ]
  },
  {
   "cell_type": "code",
   "execution_count": 1,
   "metadata": {},
   "outputs": [
    {
     "name": "stdout",
     "output_type": "stream",
     "text": [
      "wandb not available\n",
      "wandb not available\n"
     ]
    }
   ],
   "source": [
    "import ssms\n",
    "import lanfactory\n",
    "import os\n",
    "import numpy as np\n",
    "from copy import deepcopy\n",
    "import torch\n",
    "import pickle"
   ]
  },
  {
   "cell_type": "code",
   "execution_count": 2,
   "metadata": {},
   "outputs": [],
   "source": [
    "MODEL = \"weibull\"\n",
    "RUN_SIMS = True\n",
    "DEVICE = \"cpu\""
   ]
  },
  {
   "cell_type": "code",
   "execution_count": 3,
   "metadata": {},
   "outputs": [],
   "source": [
    "# MAKE CONFIGS\n",
    "model = MODEL\n",
    "# Initialize the generator config (for MLP LANs)\n",
    "generator_config = deepcopy(ssms.config.data_generator_config[\"lan\"])\n",
    "# Specify generative model (one from the list of included models mentioned above)\n",
    "generator_config[\"model\"] = model\n",
    "# Specify number of parameter sets to simulate\n",
    "generator_config[\"n_parameter_sets\"] = 500\n",
    "# Specify how many samples a simulation run should entail\n",
    "generator_config[\"n_samples\"] = 5000\n",
    "# Specify folder in which to save generated data\n",
    "generator_config[\"output_folder\"] = \"data/lan_mlp/\" + model + \"/\"\n",
    "\n",
    "# Make model config dict\n",
    "model_config = ssms.config.model_config[model]"
   ]
  },
  {
   "cell_type": "code",
   "execution_count": 4,
   "metadata": {},
   "outputs": [
    {
     "data": {
      "text/plain": [
       "{'name': 'weibull',\n",
       " 'params': ['v', 'a', 'z', 't', 'alpha', 'beta'],\n",
       " 'param_bounds': [[-2.5, 0.3, 0.2, 0.001, 0.31, 0.31],\n",
       "  [2.5, 2.5, 0.8, 2.0, 4.99, 6.99]],\n",
       " 'boundary_name': 'weibull_cdf',\n",
       " 'boundary': <function ssms.basic_simulators.boundary_functions.weibull_cdf(t: float | numpy.ndarray = 1, alpha: float = 1, beta: float = 1) -> numpy.ndarray>,\n",
       " 'n_params': 6,\n",
       " 'default_params': [0.0, 1.0, 0.5, 0.001, 3.0, 3.0],\n",
       " 'nchoices': 2,\n",
       " 'choices': [-1, 1],\n",
       " 'n_particles': 1,\n",
       " 'simulator': <cyfunction ddm_flexbound at 0x1287f82b0>}"
      ]
     },
     "execution_count": 4,
     "metadata": {},
     "output_type": "execute_result"
    }
   ],
   "source": [
    "model_config"
   ]
  },
  {
   "cell_type": "code",
   "execution_count": 6,
   "metadata": {},
   "outputs": [
    {
     "data": {
      "text/plain": [
       "{'output_folder': 'data/lan_mlp/weibull/',\n",
       " 'model': 'weibull',\n",
       " 'nbins': 0,\n",
       " 'n_samples': 5000,\n",
       " 'n_parameter_sets': 500,\n",
       " 'n_parameter_sets_rejected': 100,\n",
       " 'n_training_samples_by_parameter_set': 1000,\n",
       " 'max_t': 20.0,\n",
       " 'delta_t': 0.001,\n",
       " 'pickleprotocol': 4,\n",
       " 'n_cpus': 'all',\n",
       " 'kde_data_mixture_probabilities': [0.8, 0.1, 0.1],\n",
       " 'simulation_filters': {'mode': 20,\n",
       "  'choice_cnt': 0,\n",
       "  'mean_rt': 17,\n",
       "  'std': 0,\n",
       "  'mode_cnt_rel': 0.95},\n",
       " 'negative_rt_cutoff': -66.77497,\n",
       " 'n_subruns': 10,\n",
       " 'bin_pointwise': False,\n",
       " 'separate_response_channels': False,\n",
       " 'smooth_unif': True,\n",
       " 'kde_displace_t': False}"
      ]
     },
     "execution_count": 6,
     "metadata": {},
     "output_type": "execute_result"
    }
   ],
   "source": [
    "generator_config"
   ]
  },
  {
   "cell_type": "code",
   "execution_count": 5,
   "metadata": {},
   "outputs": [
    {
     "name": "stdout",
     "output_type": "stream",
     "text": [
      "n_cpus used:  12\n",
      "checking:  data/lan_mlp/weibull/\n",
      "simulation round: 1  of 10\n",
      "simulation round: 2  of 10\n",
      "simulation round: 3  of 10\n",
      "simulation round: 4  of 10\n",
      "simulation round: 5  of 10\n",
      "simulation round: 6  of 10\n",
      "simulation round: 7  of 10\n",
      "simulation round: 8  of 10\n",
      "simulation round: 9  of 10\n",
      "simulation round: 10  of 10\n",
      "n_cpus used:  12\n",
      "checking:  data/lan_mlp/weibull/\n",
      "simulation round: 1  of 10\n",
      "simulation round: 2  of 10\n",
      "simulation round: 3  of 10\n",
      "simulation round: 4  of 10\n",
      "simulation round: 5  of 10\n",
      "simulation round: 6  of 10\n",
      "simulation round: 7  of 10\n",
      "simulation round: 8  of 10\n",
      "simulation round: 9  of 10\n",
      "simulation round: 10  of 10\n"
     ]
    }
   ],
   "source": [
    "# MAKE DATA\n",
    "if RUN_SIMS:\n",
    "    n_datafiles = 2\n",
    "    for i in range(n_datafiles):\n",
    "        my_dataset_generator = ssms.dataset_generators.lan_mlp.data_generator(\n",
    "            generator_config=generator_config, model_config=model_config\n",
    "        )\n",
    "        training_data = my_dataset_generator.generate_data_training_uniform(save=False)"
   ]
  },
  {
   "cell_type": "code",
   "execution_count": 59,
   "metadata": {},
   "outputs": [
    {
     "name": "stdout",
     "output_type": "stream",
     "text": [
      "Network config: \n",
      "{'layer_sizes': [100, 100, 100, 1], 'activations': ['tanh', 'tanh', 'tanh', 'linear'], 'train_output_type': 'logprob'}\n",
      "Train config: \n",
      "{'cpu_batch_size': 128, 'gpu_batch_size': 256, 'n_epochs': 5, 'optimizer': 'adam', 'learning_rate': 2e-06, 'lr_scheduler': 'reduce_on_plateau', 'lr_scheduler_params': {}, 'weight_decay': 0.0, 'loss': 'huber', 'save_history': True}\n"
     ]
    }
   ],
   "source": [
    "from copy import deepcopy\n",
    "\n",
    "network_config = deepcopy(lanfactory.config.network_configs.network_config_mlp)\n",
    "network_config[\"layer_sizes\"] = [100, 100, 100, 1]\n",
    "network_config[\"activations\"] = [\"tanh\", \"tanh\", \"tanh\", \"linear\"]\n",
    "\n",
    "print(\"Network config: \")\n",
    "print(network_config)\n",
    "\n",
    "train_config = deepcopy(lanfactory.config.network_configs.train_config_mlp)\n",
    "train_config[\"learning_rate\"] = 0.000002\n",
    "\n",
    "print(\"Train config: \")\n",
    "print(train_config)"
   ]
  },
  {
   "cell_type": "code",
   "execution_count": 72,
   "metadata": {},
   "outputs": [
    {
     "data": {
      "text/plain": [
       "{'layer_sizes': [100, 100, 100, 1],\n",
       " 'activations': ['tanh', 'tanh', 'tanh', 'linear'],\n",
       " 'train_output_type': 'logprob'}"
      ]
     },
     "execution_count": 72,
     "metadata": {},
     "output_type": "execute_result"
    }
   ],
   "source": [
    "network_config"
   ]
  },
  {
   "cell_type": "code",
   "execution_count": 61,
   "metadata": {},
   "outputs": [],
   "source": [
    "train_config[\"cpu_batch_size\"] = 4196\n",
    "train_config[\"gpu_batch_size\"] = 256\n",
    "train_config[\"n_epochs\"] = 5"
   ]
  },
  {
   "cell_type": "code",
   "execution_count": 62,
   "metadata": {},
   "outputs": [
    {
     "data": {
      "text/plain": [
       "{'cpu_batch_size': 4196,\n",
       " 'gpu_batch_size': 256,\n",
       " 'n_epochs': 5,\n",
       " 'optimizer': 'adam',\n",
       " 'learning_rate': 2e-06,\n",
       " 'lr_scheduler': 'reduce_on_plateau',\n",
       " 'lr_scheduler_params': {},\n",
       " 'weight_decay': 0.0,\n",
       " 'loss': 'huber',\n",
       " 'save_history': True}"
      ]
     },
     "execution_count": 62,
     "metadata": {},
     "output_type": "execute_result"
    }
   ],
   "source": [
    "train_config"
   ]
  },
  {
   "cell_type": "markdown",
   "metadata": {},
   "source": [
    "#### Prepare for Training\n",
    "\n",
    "Next we set up dataloaders for training with pytorch. The `LANfactory` uses custom dataloaders, taking into account particularities of the expected training data.\n",
    "Specifically, we expect to receive a bunch of training data files (the present example generates only one), where each file hosts a large number of training examples. \n",
    "So we want to define a dataloader which spits out batches from data with a specific training data file, and keeps checking when to load in a new file. \n",
    "The way this is implemented here, is via the `DatasetTorch` class in `lanfactory.trainers`, which inherits from `torch.utils.data.Dataset` and prespecifies a `batch_size`. Finally this is supplied to a [`DataLoader`](https://pytorch.org/docs/stable/data.html), for which we keep the `batch_size` argument at 0.\n",
    "\n",
    "The `DatasetTorch` class is then called as an iterator via the DataLoader and takes care of batching as well as file loading internally. \n",
    "\n",
    "You may choose your own way of defining the `DataLoader` classes, downstream you are simply expected to supply one."
   ]
  },
  {
   "cell_type": "code",
   "execution_count": 63,
   "metadata": {},
   "outputs": [],
   "source": [
    "folder_ = os.path.join(\"data\", \"lan_mlp\", MODEL)\n",
    "file_list_ = [folder_ + \"/\" + file_ for file_ in os.listdir(folder_)]\n",
    "\n",
    "# Training dataset\n",
    "jax_training_dataset = lanfactory.trainers.DatasetTorch(\n",
    "    file_ids=file_list_,\n",
    "    batch_size=(\n",
    "        train_config[DEVICE + \"_batch_size\"]\n",
    "        if torch.cuda.is_available()\n",
    "        else train_config[DEVICE + \"_batch_size\"]\n",
    "    ),\n",
    "    label_lower_bound=np.log(1e-10),\n",
    "    features_key=\"lan_data\",\n",
    "    label_key=\"lan_labels\",\n",
    "    out_framework=\"jax\",\n",
    ")\n",
    "\n",
    "jax_training_dataloader = torch.utils.data.DataLoader(\n",
    "    jax_training_dataset, shuffle=True, batch_size=None, num_workers=1, pin_memory=True\n",
    ")\n",
    "\n",
    "# Validation dataset\n",
    "jax_validation_dataset = lanfactory.trainers.DatasetTorch(\n",
    "    file_ids=file_list_,\n",
    "    batch_size=(\n",
    "        train_config[DEVICE + \"_batch_size\"]\n",
    "        if torch.cuda.is_available()\n",
    "        else train_config[DEVICE + \"_batch_size\"]\n",
    "    ),\n",
    "    label_lower_bound=np.log(1e-10),\n",
    "    features_key=\"lan_data\",\n",
    "    label_key=\"lan_labels\",\n",
    "    out_framework=\"jax\",\n",
    ")\n",
    "\n",
    "jax_validation_dataloader = torch.utils.data.DataLoader(\n",
    "    jax_validation_dataset,\n",
    "    shuffle=True,\n",
    "    batch_size=None,\n",
    "    num_workers=1,\n",
    "    pin_memory=True,\n",
    ")"
   ]
  },
  {
   "cell_type": "markdown",
   "metadata": {},
   "source": [
    "#### Define Network"
   ]
  },
  {
   "cell_type": "code",
   "execution_count": 64,
   "metadata": {},
   "outputs": [],
   "source": [
    "# LOAD NETWORK\n",
    "jax_net = lanfactory.trainers.MLPJaxFactory(network_config=network_config, train=True)\n",
    "\n",
    "# Save model config\n",
    "model_folder = os.path.join(\"data\", \"jax_models\", MODEL)\n",
    "os.makedirs(model_folder, exist_ok=True)\n",
    "\n",
    "pickle.dump(\n",
    "    network_config, open(os.path.join(model_folder, \"jax_network_config.pickle\"), \"wb\")\n",
    ")"
   ]
  },
  {
   "cell_type": "markdown",
   "metadata": {},
   "source": [
    "#### Train "
   ]
  },
  {
   "cell_type": "code",
   "execution_count": 65,
   "metadata": {},
   "outputs": [],
   "source": [
    "jax_trainer = lanfactory.trainers.ModelTrainerJaxMLP(\n",
    "    train_config=train_config,\n",
    "    model=jax_net,\n",
    "    train_dl=jax_training_dataloader,\n",
    "    valid_dl=jax_validation_dataloader,\n",
    "    pin_memory=True,\n",
    ")"
   ]
  },
  {
   "cell_type": "code",
   "execution_count": 66,
   "metadata": {},
   "outputs": [
    {
     "data": {
      "text/plain": [
       "['data/lan_mlp/angle/training_data_20a081ec129511f0a69d6ae25f443f61.pickle',\n",
       " 'data/lan_mlp/angle/training_data_2e4fc10e129511f0a69d6ae25f443f61.pickle',\n",
       " 'data/lan_mlp/angle/training_data_19afffb6129511f0a69d6ae25f443f61.pickle',\n",
       " 'data/lan_mlp/angle/training_data_3d1b6cd8129511f0a69d6ae25f443f61.pickle',\n",
       " 'data/lan_mlp/angle/training_data_1314ecb6129511f0a69d6ae25f443f61.pickle',\n",
       " 'data/lan_mlp/angle/training_data_0bc500d6129511f0a69d6ae25f443f61.pickle',\n",
       " 'data/lan_mlp/angle/training_data_048fec04129511f0a69d6ae25f443f61.pickle',\n",
       " 'data/lan_mlp/angle/training_data_fd33ad24129411f0a69d6ae25f443f61.pickle',\n",
       " 'data/lan_mlp/angle/training_data_275c2c2a129511f0a69d6ae25f443f61.pickle',\n",
       " 'data/lan_mlp/angle/training_data_3502309a129511f0a69d6ae25f443f61.pickle']"
      ]
     },
     "execution_count": 66,
     "metadata": {},
     "output_type": "execute_result"
    }
   ],
   "source": [
    "jax_trainer.train_dl.dataset.file_ids"
   ]
  },
  {
   "cell_type": "code",
   "execution_count": 67,
   "metadata": {},
   "outputs": [
    {
     "name": "stdout",
     "output_type": "stream",
     "text": [
      "Found folder:  data\n",
      "Moving on...\n",
      "Found folder:  data/jax_models\n",
      "Moving on...\n",
      "Found folder:  data/jax_models/angle\n",
      "Moving on...\n",
      "Epoch: 0 of 5\n",
      "wandb not available\n",
      "wandb not available\n",
      "Training - Step: 0 of 1190 - Loss: 4.527381\n",
      "Training - Step: 1000 of 1190 - Loss: 0.12716761\n",
      "Epoch 0/5 time: 9.622467041015625s\n",
      "wandb not available\n",
      "wandb not available\n",
      "Validation - Step: 0 of 1190 - Loss: 0.095306456\n",
      "Validation - Step: 1000 of 1190 - Loss: 0.08682231\n",
      "Epoch 0/5 time: 7.853864908218384s\n",
      "Epoch: 0 / 5, test_loss: 0.08712694048881531\n",
      "Epoch: 1 of 5\n",
      "wandb not available\n",
      "wandb not available\n",
      "Training - Step: 0 of 1190 - Loss: 0.07513876\n",
      "Training - Step: 1000 of 1190 - Loss: 0.0529762\n",
      "Epoch 1/5 time: 9.071078300476074s\n",
      "wandb not available\n",
      "wandb not available\n",
      "Validation - Step: 0 of 1190 - Loss: 0.047204763\n",
      "Validation - Step: 1000 of 1190 - Loss: 0.054478623\n",
      "Epoch 1/5 time: 7.939368963241577s\n",
      "Epoch: 1 / 5, test_loss: 0.051440104842185974\n",
      "Epoch: 2 of 5\n",
      "wandb not available\n",
      "wandb not available\n",
      "Training - Step: 0 of 1190 - Loss: 0.04336932\n",
      "Training - Step: 1000 of 1190 - Loss: 0.05843258\n",
      "Epoch 2/5 time: 10.422452211380005s\n",
      "wandb not available\n",
      "wandb not available\n",
      "Validation - Step: 0 of 1190 - Loss: 0.035175554\n",
      "Validation - Step: 1000 of 1190 - Loss: 0.035557438\n",
      "Epoch 2/5 time: 8.611875057220459s\n",
      "Epoch: 2 / 5, test_loss: 0.03708192706108093\n",
      "Epoch: 3 of 5\n",
      "wandb not available\n",
      "wandb not available\n",
      "Training - Step: 0 of 1190 - Loss: 0.040386923\n",
      "Training - Step: 1000 of 1190 - Loss: 0.02968632\n",
      "Epoch 3/5 time: 10.756976842880249s\n",
      "wandb not available\n",
      "wandb not available\n",
      "Validation - Step: 0 of 1190 - Loss: 0.028168881\n",
      "Validation - Step: 1000 of 1190 - Loss: 0.0452773\n",
      "Epoch 3/5 time: 8.507453918457031s\n",
      "Epoch: 3 / 5, test_loss: 0.02763802744448185\n",
      "Epoch: 4 of 5\n",
      "wandb not available\n",
      "wandb not available\n",
      "Training - Step: 0 of 1190 - Loss: 0.021037173\n",
      "Training - Step: 1000 of 1190 - Loss: 0.025578186\n",
      "Epoch 4/5 time: 10.541483640670776s\n",
      "wandb not available\n",
      "wandb not available\n",
      "Validation - Step: 0 of 1190 - Loss: 0.015987268\n",
      "Validation - Step: 1000 of 1190 - Loss: 0.016055975\n",
      "Epoch 4/5 time: 8.220556020736694s\n",
      "Epoch: 4 / 5, test_loss: 0.023113258183002472\n",
      "Saving training history to: data/jax_models/angle/jax_lan_angle__jax_training_history.csv\n",
      "Saving model parameters to: data/jax_models/angle/jax_lan_angle__train_state.jax\n",
      "Saving training config to: data/jax_models/angle/jax_lan_angle__train_config.pickle\n",
      "Saving training data details to: data/jax_models/angle/jax_lan_angle__data_details.pickle\n"
     ]
    }
   ],
   "source": [
    "train_state = jax_trainer.train_and_evaluate(\n",
    "    output_folder=model_folder,\n",
    "    output_file_id=MODEL,\n",
    "    run_id=\"jax\",\n",
    "    wandb_on=False,\n",
    "    wandb_project_id=\"jax\",\n",
    "    save_data_details=True,\n",
    "    verbose=1,\n",
    "    save_all=True,\n",
    ")"
   ]
  },
  {
   "cell_type": "markdown",
   "metadata": {},
   "source": [
    "#### Check Trained Network\n",
    "\n",
    "We can now re-instantiate our network from the trained weights and check that the output are reasonable."
   ]
  },
  {
   "cell_type": "code",
   "execution_count": 68,
   "metadata": {},
   "outputs": [],
   "source": [
    "# Loaded Net\n",
    "jax_infer = lanfactory.trainers.MLPJaxFactory(\n",
    "    network_config=network_config,\n",
    "    train=False,\n",
    ")"
   ]
  },
  {
   "cell_type": "code",
   "execution_count": 69,
   "metadata": {},
   "outputs": [],
   "source": [
    "forward_pass, forward_pass_jitted = jax_infer.make_forward_partial(\n",
    "    seed=42,\n",
    "    input_dim=model_config[\"n_params\"] + 2,\n",
    "    state=os.path.join(\n",
    "        \"data\", \"jax_models\", MODEL, \"jax_lan_\" + MODEL + \"__train_state.jax\"\n",
    "    ),\n",
    "    add_jitted=True,\n",
    ")"
   ]
  },
  {
   "cell_type": "code",
   "execution_count": 70,
   "metadata": {},
   "outputs": [],
   "source": [
    "import jax.numpy as jnp\n",
    "\n",
    "# Test parameters:\n",
    "theta = deepcopy(ssms.config.model_config[MODEL][\"default_params\"])\n",
    "\n",
    "# Comparison simulator run\n",
    "sim_out = ssms.basic_simulators.simulator.simulator(\n",
    "    model=MODEL, theta=theta, n_samples=50000\n",
    ")\n",
    "\n",
    "# Make input metric\n",
    "input_mat = jnp.zeros((2000, len(theta) + 2))\n",
    "for i in range(len(theta)):\n",
    "    input_mat = input_mat.at[:, i].set(jnp.ones(2000) * theta[i])\n",
    "\n",
    "input_mat = input_mat.at[:, len(theta)].set(\n",
    "    jnp.array(\n",
    "        np.concatenate(\n",
    "            [\n",
    "                np.linspace(5, 0, 1000).astype(np.float32),\n",
    "                np.linspace(0, 5, 1000).astype(np.float32),\n",
    "            ]\n",
    "        )\n",
    "    )\n",
    ")\n",
    "input_mat = input_mat.at[:, len(theta) + 1].set(\n",
    "    jnp.array(\n",
    "        np.concatenate([np.repeat(-1.0, 1000), np.repeat(1.0, 1000)]).astype(np.float32)\n",
    "    )\n",
    ")\n",
    "\n",
    "net_out = forward_pass_jitted(input_mat)"
   ]
  },
  {
   "cell_type": "code",
   "execution_count": 71,
   "metadata": {},
   "outputs": [
    {
     "data": {
      "text/plain": [
       "(array([1.11950618e-04, 0.00000000e+00, 0.00000000e+00, 0.00000000e+00,\n",
       "        2.23901235e-04, 0.00000000e+00, 0.00000000e+00, 0.00000000e+00,\n",
       "        0.00000000e+00, 1.11950618e-04, 1.11950618e-04, 1.11950618e-04,\n",
       "        3.35851853e-04, 1.11950618e-04, 3.35851853e-04, 1.11950618e-04,\n",
       "        2.23901235e-04, 2.23901235e-04, 1.00755556e-03, 5.59753088e-04,\n",
       "        1.45535803e-03, 2.12706173e-03, 1.56730865e-03, 3.80632100e-03,\n",
       "        3.47046915e-03, 2.79876544e-03, 5.14972841e-03, 5.26167903e-03,\n",
       "        7.72459261e-03, 9.17995064e-03, 8.95604941e-03, 1.28743210e-02,\n",
       "        1.64567408e-02, 1.75762470e-02, 2.39574322e-02, 2.89952100e-02,\n",
       "        3.70556544e-02, 4.73551112e-02, 5.76545681e-02, 7.41113089e-02,\n",
       "        8.76573336e-02, 1.13741827e-01, 1.31541976e-01, 1.66022766e-01,\n",
       "        2.03190371e-01, 2.50545482e-01, 3.11446618e-01, 3.81975507e-01,\n",
       "        4.26084051e-01, 3.28798964e-01, 1.64567408e-02, 2.02070865e-01,\n",
       "        4.34592298e-01, 4.09067557e-01, 3.37419161e-01, 2.75286569e-01,\n",
       "        2.23901235e-01, 1.82367556e-01, 1.43744593e-01, 1.19339358e-01,\n",
       "        9.25831608e-02, 7.63503212e-02, 6.45955064e-02, 4.75790125e-02,\n",
       "        4.01902717e-02, 3.14581235e-02, 2.42932840e-02, 1.82479507e-02,\n",
       "        1.73523457e-02, 1.41057778e-02, 1.06353087e-02, 8.17239509e-03,\n",
       "        7.61264200e-03, 4.14217285e-03, 4.36607409e-03, 4.03022223e-03,\n",
       "        2.35096297e-03, 2.46291359e-03, 8.95604941e-04, 1.45535803e-03,\n",
       "        2.12706173e-03, 1.34340741e-03, 1.11950618e-03, 1.45535803e-03,\n",
       "        4.47802470e-04, 3.35851853e-04, 5.59753088e-04, 2.23901235e-04,\n",
       "        0.00000000e+00, 0.00000000e+00, 0.00000000e+00, 2.23901235e-04,\n",
       "        0.00000000e+00, 2.23901235e-04, 0.00000000e+00, 0.00000000e+00,\n",
       "        0.00000000e+00, 0.00000000e+00, 1.11950618e-04, 1.11950618e-04]),\n",
       " array([-9.05331612, -8.87466592, -8.69601572, -8.51736552, -8.33871532,\n",
       "        -8.16006513, -7.98141493, -7.80276473, -7.62411453, -7.44546433,\n",
       "        -7.26681414, -7.08816394, -6.90951374, -6.73086354, -6.55221334,\n",
       "        -6.37356315, -6.19491295, -6.01626275, -5.83761255, -5.65896235,\n",
       "        -5.48031216, -5.30166196, -5.12301176, -4.94436156, -4.76571136,\n",
       "        -4.58706117, -4.40841097, -4.22976077, -4.05111057, -3.87246037,\n",
       "        -3.69381018, -3.51515998, -3.33650978, -3.15785958, -2.97920938,\n",
       "        -2.80055919, -2.62190899, -2.44325879, -2.26460859, -2.0859584 ,\n",
       "        -1.9073082 , -1.728658  , -1.5500078 , -1.3713576 , -1.19270741,\n",
       "        -1.01405721, -0.83540701, -0.65675681, -0.47810661, -0.29945642,\n",
       "        -0.12080622,  0.05784398,  0.23649418,  0.41514438,  0.59379457,\n",
       "         0.77244477,  0.95109497,  1.12974517,  1.30839537,  1.48704556,\n",
       "         1.66569576,  1.84434596,  2.02299616,  2.20164636,  2.38029655,\n",
       "         2.55894675,  2.73759695,  2.91624715,  3.09489735,  3.27354754,\n",
       "         3.45219774,  3.63084794,  3.80949814,  3.98814834,  4.16679853,\n",
       "         4.34544873,  4.52409893,  4.70274913,  4.88139933,  5.06004952,\n",
       "         5.23869972,  5.41734992,  5.59600012,  5.77465032,  5.95330051,\n",
       "         6.13195071,  6.31060091,  6.48925111,  6.66790131,  6.8465515 ,\n",
       "         7.0252017 ,  7.2038519 ,  7.3825021 ,  7.5611523 ,  7.73980249,\n",
       "         7.91845269,  8.09710289,  8.27575309,  8.45440329,  8.63305348,\n",
       "         8.81170368]),\n",
       " [<matplotlib.patches.Polygon at 0x2f8b71810>])"
      ]
     },
     "execution_count": 71,
     "metadata": {},
     "output_type": "execute_result"
    },
    {
     "data": {
      "image/png": "[encoded data removed]",
      "text/plain": [
       "<Figure size 640x480 with 1 Axes>"
      ]
     },
     "metadata": {},
     "output_type": "display_data"
    }
   ],
   "source": [
    "from matplotlib import pyplot as plt\n",
    "\n",
    "# Plot network log likelihood\n",
    "plt.plot(np.linspace(-5, 5, 2000).astype(np.float32), np.exp(net_out))\n",
    "\n",
    "# Plot simulation histogram\n",
    "plt.hist(\n",
    "    sim_out[\"rts\"] * sim_out[\"choices\"],\n",
    "    bins=100,\n",
    "    histtype=\"step\",\n",
    "    fill=None,\n",
    "    density=True,\n",
    ")"
   ]
  },
  {
   "cell_type": "code",
   "execution_count": 40,
   "metadata": {},
   "outputs": [
    {
     "data": {
      "text/plain": [
       "array([[0.00778591],\n",
       "       [0.00778591],\n",
       "       [0.00778591],\n",
       "       ...,\n",
       "       [0.01852017],\n",
       "       [0.01852017],\n",
       "       [0.01852017]], dtype=float32)"
      ]
     },
     "execution_count": 40,
     "metadata": {},
     "output_type": "execute_result"
    }
   ],
   "source": [
    "np.exp(net_out)"
   ]
  }
 ],
 "metadata": {
  "kernelspec": {
   "display_name": "lanfactory",
   "language": "python",
   "name": "python3"
  },
  "language_info": {
   "codemirror_mode": {
    "name": "ipython",
    "version": 3
   },
   "file_extension": ".py",
   "mimetype": "text/x-python",
   "name": "python",
   "nbconvert_exporter": "python",
   "pygments_lexer": "ipython3",
   "version": "3.11.10"
  },
  "orig_nbformat": 4
 },
 "nbformat": 4,
 "nbformat_minor": 2
}
