{
 "cells": [
  {
   "cell_type": "markdown",
   "metadata": {},
   "source": [
    "### Basic Tutorial: Jax Version"
   ]
  },
  {
   "cell_type": "markdown",
   "metadata": {},
   "source": [
    "\n",
    "The `LANfactory` package is a light-weight convenience package for training `likelihood approximation networks` (LANs) in torch (or keras), \n",
    "starting from supplied training data.\n",
    "\n",
    "[LANs](https://elifesciences.org/articles/65074), although more general in potential scope of applications, were conceived in the context of sequential sampling modeling\n",
    "to account for cognitive processes giving rise to *choice* and *reaction time* data in *n-alternative forced choice experiments* commonly encountered in the cognitive sciences.\n",
    "\n",
    "In this quick tutorial we will use the [`ssms`](https://github.com/AlexanderFengler/ssm_simulators) package to generate our training data using such a sequential sampling model (SSM). The use of of the `LANfactory` package is in no way bound to utilize this `ssms` package."
   ]
  },
  {
   "cell_type": "markdown",
   "metadata": {},
   "source": [
    "#### Install\n",
    "\n",
    "To install the `ssms` package type,\n",
    "\n",
    "`pip install git+https://github.com/AlexanderFengler/ssm_simulators`\n",
    "\n",
    "To install the `LANfactory` package type,\n",
    "\n",
    "`pip install git+https://github.com/AlexanderFengler/LANfactory`\n",
    "\n",
    "Necessary dependency should be installed automatically in the process."
   ]
  },
  {
   "cell_type": "code",
   "execution_count": 14,
   "metadata": {},
   "outputs": [],
   "source": [
    "import ssms\n",
    "import lanfactory\n",
    "import os\n",
    "import numpy as np\n",
    "from copy import deepcopy\n",
    "import torch\n",
    "import pickle"
   ]
  },
  {
   "cell_type": "code",
   "execution_count": 15,
   "metadata": {},
   "outputs": [],
   "source": [
    "MODEL = \"angle\"\n",
    "RUN_SIMS = True\n",
    "DEVICE = \"cpu\""
   ]
  },
  {
   "cell_type": "code",
   "execution_count": 16,
   "metadata": {},
   "outputs": [],
   "source": [
    "# MAKE CONFIGS\n",
    "model = MODEL\n",
    "# Initialize the generator config (for MLP LANs)\n",
    "generator_config = deepcopy(ssms.config.data_generator_config[\"lan\"])\n",
    "# Specify generative model (one from the list of included models mentioned above)\n",
    "generator_config[\"model\"] = model\n",
    "# Specify number of parameter sets to simulate\n",
    "generator_config[\"n_parameter_sets\"] = 256\n",
    "# Specify how many samples a simulation run should entail\n",
    "generator_config[\"n_samples\"] = 1000\n",
    "# Specify folder in which to save generated data\n",
    "generator_config[\"output_folder\"] = \"data/lan_mlp/\" + model + \"/\"\n",
    "\n",
    "# Make model config dict\n",
    "model_config = ssms.config.model_config[model]"
   ]
  },
  {
   "cell_type": "code",
   "execution_count": 17,
   "metadata": {},
   "outputs": [
    {
     "name": "stdout",
     "output_type": "stream",
     "text": [
      "n_cpus used:  12\n",
      "checking:  data/lan_mlp/angle/\n",
      "simulation round: 1  of 10\n",
      "simulation round: 2  of 10\n",
      "simulation round: 3  of 10\n",
      "simulation round: 4  of 10\n",
      "simulation round: 5  of 10\n",
      "simulation round: 6  of 10\n",
      "simulation round: 7  of 10\n",
      "simulation round: 8  of 10\n",
      "simulation round: 9  of 10\n",
      "simulation round: 10  of 10\n",
      "Writing to file:  data/lan_mlp/angle//training_data_4702353cbd8711ef94806ae25f443f63.pickle\n",
      "n_cpus used:  12\n",
      "checking:  data/lan_mlp/angle/\n",
      "simulation round: 1  of 10\n",
      "simulation round: 2  of 10\n",
      "simulation round: 3  of 10\n",
      "simulation round: 4  of 10\n",
      "simulation round: 5  of 10\n",
      "simulation round: 6  of 10\n",
      "simulation round: 7  of 10\n",
      "simulation round: 8  of 10\n",
      "simulation round: 9  of 10\n",
      "simulation round: 10  of 10\n",
      "Writing to file:  data/lan_mlp/angle//training_data_48209832bd8711ef94806ae25f443f63.pickle\n",
      "n_cpus used:  12\n",
      "checking:  data/lan_mlp/angle/\n",
      "simulation round: 1  of 10\n",
      "simulation round: 2  of 10\n",
      "simulation round: 3  of 10\n",
      "simulation round: 4  of 10\n",
      "simulation round: 5  of 10\n",
      "simulation round: 6  of 10\n",
      "simulation round: 7  of 10\n",
      "simulation round: 8  of 10\n",
      "simulation round: 9  of 10\n",
      "simulation round: 10  of 10\n",
      "Writing to file:  data/lan_mlp/angle//training_data_4952c2f2bd8711ef94806ae25f443f63.pickle\n",
      "n_cpus used:  12\n",
      "checking:  data/lan_mlp/angle/\n",
      "simulation round: 1  of 10\n",
      "simulation round: 2  of 10\n",
      "simulation round: 3  of 10\n",
      "simulation round: 4  of 10\n",
      "simulation round: 5  of 10\n",
      "simulation round: 6  of 10\n",
      "simulation round: 7  of 10\n",
      "simulation round: 8  of 10\n",
      "simulation round: 9  of 10\n",
      "simulation round: 10  of 10\n",
      "Writing to file:  data/lan_mlp/angle//training_data_4a780624bd8711ef94806ae25f443f63.pickle\n",
      "n_cpus used:  12\n",
      "checking:  data/lan_mlp/angle/\n",
      "simulation round: 1  of 10\n",
      "simulation round: 2  of 10\n",
      "simulation round: 3  of 10\n",
      "simulation round: 4  of 10\n",
      "simulation round: 5  of 10\n",
      "simulation round: 6  of 10\n",
      "simulation round: 7  of 10\n",
      "simulation round: 8  of 10\n",
      "simulation round: 9  of 10\n",
      "simulation round: 10  of 10\n",
      "Writing to file:  data/lan_mlp/angle//training_data_4b8e9c76bd8711ef94806ae25f443f63.pickle\n",
      "n_cpus used:  12\n",
      "checking:  data/lan_mlp/angle/\n",
      "simulation round: 1  of 10\n",
      "simulation round: 2  of 10\n",
      "simulation round: 3  of 10\n",
      "simulation round: 4  of 10\n",
      "simulation round: 5  of 10\n",
      "simulation round: 6  of 10\n",
      "simulation round: 7  of 10\n",
      "simulation round: 8  of 10\n",
      "simulation round: 9  of 10\n",
      "simulation round: 10  of 10\n",
      "Writing to file:  data/lan_mlp/angle//training_data_4ca9c158bd8711ef94806ae25f443f63.pickle\n",
      "n_cpus used:  12\n",
      "checking:  data/lan_mlp/angle/\n",
      "simulation round: 1  of 10\n",
      "simulation round: 2  of 10\n",
      "simulation round: 3  of 10\n",
      "simulation round: 4  of 10\n",
      "simulation round: 5  of 10\n",
      "simulation round: 6  of 10\n",
      "simulation round: 7  of 10\n",
      "simulation round: 8  of 10\n",
      "simulation round: 9  of 10\n",
      "simulation round: 10  of 10\n",
      "Writing to file:  data/lan_mlp/angle//training_data_4db001c0bd8711ef94806ae25f443f63.pickle\n",
      "n_cpus used:  12\n",
      "checking:  data/lan_mlp/angle/\n",
      "simulation round: 1  of 10\n",
      "simulation round: 2  of 10\n",
      "simulation round: 3  of 10\n",
      "simulation round: 4  of 10\n",
      "simulation round: 5  of 10\n",
      "simulation round: 6  of 10\n",
      "simulation round: 7  of 10\n",
      "simulation round: 8  of 10\n",
      "simulation round: 9  of 10\n",
      "simulation round: 10  of 10\n",
      "Writing to file:  data/lan_mlp/angle//training_data_4edc5b34bd8711ef94806ae25f443f63.pickle\n",
      "n_cpus used:  12\n",
      "checking:  data/lan_mlp/angle/\n",
      "simulation round: 1  of 10\n",
      "simulation round: 2  of 10\n",
      "simulation round: 3  of 10\n",
      "simulation round: 4  of 10\n",
      "simulation round: 5  of 10\n",
      "simulation round: 6  of 10\n",
      "simulation round: 7  of 10\n",
      "simulation round: 8  of 10\n",
      "simulation round: 9  of 10\n",
      "simulation round: 10  of 10\n",
      "Writing to file:  data/lan_mlp/angle//training_data_4ffa29d8bd8711ef94806ae25f443f63.pickle\n",
      "n_cpus used:  12\n",
      "checking:  data/lan_mlp/angle/\n",
      "simulation round: 1  of 10\n",
      "simulation round: 2  of 10\n",
      "simulation round: 3  of 10\n",
      "simulation round: 4  of 10\n",
      "simulation round: 5  of 10\n",
      "simulation round: 6  of 10\n",
      "simulation round: 7  of 10\n",
      "simulation round: 8  of 10\n",
      "simulation round: 9  of 10\n",
      "simulation round: 10  of 10\n",
      "Writing to file:  data/lan_mlp/angle//training_data_5131d8bebd8711ef94806ae25f443f63.pickle\n"
     ]
    }
   ],
   "source": [
    "# MAKE DATA\n",
    "if RUN_SIMS:\n",
    "    n_datafiles = 10\n",
    "    for i in range(n_datafiles):\n",
    "        my_dataset_generator = ssms.dataset_generators.lan_mlp.data_generator(\n",
    "            generator_config=generator_config, model_config=model_config\n",
    "        )\n",
    "        training_data = my_dataset_generator.generate_data_training_uniform(save=True)"
   ]
  },
  {
   "cell_type": "code",
   "execution_count": 18,
   "metadata": {},
   "outputs": [
    {
     "name": "stdout",
     "output_type": "stream",
     "text": [
      "Network config: \n",
      "{'layer_sizes': [100, 100, 100, 1], 'activations': ['tanh', 'tanh', 'tanh', 'linear'], 'train_output_type': 'logprob'}\n",
      "Train config: \n",
      "{'cpu_batch_size': 128, 'gpu_batch_size': 256, 'n_epochs': 5, 'optimizer': 'adam', 'learning_rate': 2e-06, 'lr_scheduler': 'reduce_on_plateau', 'lr_scheduler_params': {}, 'weight_decay': 0.0, 'loss': 'huber', 'save_history': True}\n"
     ]
    }
   ],
   "source": [
    "from copy import deepcopy\n",
    "\n",
    "network_config = deepcopy(lanfactory.config.network_configs.network_config_mlp)\n",
    "network_config[\"layer_sizes\"] = [100, 100, 100, 1]\n",
    "network_config[\"activations\"] = [\"tanh\", \"tanh\", \"tanh\", \"linear\"]\n",
    "\n",
    "print(\"Network config: \")\n",
    "print(network_config)\n",
    "\n",
    "train_config = deepcopy(lanfactory.config.network_configs.train_config_mlp)\n",
    "train_config[\"learning_rate\"] = 0.000002\n",
    "\n",
    "print(\"Train config: \")\n",
    "print(train_config)"
   ]
  },
  {
   "cell_type": "code",
   "execution_count": 19,
   "metadata": {},
   "outputs": [
    {
     "data": {
      "text/plain": [
       "{'layer_sizes': [100, 100, 100, 1],\n",
       " 'activations': ['tanh', 'tanh', 'tanh', 'linear'],\n",
       " 'train_output_type': 'logprob'}"
      ]
     },
     "execution_count": 19,
     "metadata": {},
     "output_type": "execute_result"
    }
   ],
   "source": [
    "network_config"
   ]
  },
  {
   "cell_type": "code",
   "execution_count": 20,
   "metadata": {},
   "outputs": [],
   "source": [
    "train_config[\"cpu_batch_size\"] = 128\n",
    "train_config[\"gpu_batch_size\"] = 256\n",
    "train_config[\"n_epochs\"] = 5"
   ]
  },
  {
   "cell_type": "code",
   "execution_count": 21,
   "metadata": {},
   "outputs": [
    {
     "data": {
      "text/plain": [
       "{'cpu_batch_size': 128,\n",
       " 'gpu_batch_size': 256,\n",
       " 'n_epochs': 5,\n",
       " 'optimizer': 'adam',\n",
       " 'learning_rate': 2e-06,\n",
       " 'lr_scheduler': 'reduce_on_plateau',\n",
       " 'lr_scheduler_params': {},\n",
       " 'weight_decay': 0.0,\n",
       " 'loss': 'huber',\n",
       " 'save_history': True}"
      ]
     },
     "execution_count": 21,
     "metadata": {},
     "output_type": "execute_result"
    }
   ],
   "source": [
    "train_config"
   ]
  },
  {
   "cell_type": "markdown",
   "metadata": {},
   "source": [
    "#### Prepare for Training\n",
    "\n",
    "Next we set up dataloaders for training with pytorch. The `LANfactory` uses custom dataloaders, taking into account particularities of the expected training data.\n",
    "Specifically, we expect to receive a bunch of training data files (the present example generates only one), where each file hosts a large number of training examples. \n",
    "So we want to define a dataloader which spits out batches from data with a specific training data file, and keeps checking when to load in a new file. \n",
    "The way this is implemented here, is via the `DatasetTorch` class in `lanfactory.trainers`, which inherits from `torch.utils.data.Dataset` and prespecifies a `batch_size`. Finally this is supplied to a [`DataLoader`](https://pytorch.org/docs/stable/data.html), for which we keep the `batch_size` argument at 0.\n",
    "\n",
    "The `DatasetTorch` class is then called as an iterator via the DataLoader and takes care of batching as well as file loading internally. \n",
    "\n",
    "You may choose your own way of defining the `DataLoader` classes, downstream you are simply expected to supply one."
   ]
  },
  {
   "cell_type": "code",
   "execution_count": 22,
   "metadata": {},
   "outputs": [],
   "source": [
    "folder_ = os.path.join(\"data\", \"lan_mlp\", MODEL)\n",
    "file_list_ = [folder_ + '/' + file_ for file_ in os.listdir(folder_)]\n",
    "\n",
    "# Training dataset\n",
    "jax_training_dataset = lanfactory.trainers.DatasetTorch(\n",
    "    file_ids=file_list_,\n",
    "    batch_size=(\n",
    "        train_config[DEVICE + \"_batch_size\"]\n",
    "        if torch.cuda.is_available()\n",
    "        else train_config[DEVICE + \"_batch_size\"]\n",
    "    ),\n",
    "    label_lower_bound=np.log(1e-10),\n",
    "    features_key=\"lan_data\",\n",
    "    label_key=\"lan_labels\",\n",
    "    out_framework=\"jax\",\n",
    ")\n",
    "\n",
    "jax_training_dataloader = torch.utils.data.DataLoader(\n",
    "    jax_training_dataset, shuffle=True, batch_size=None, num_workers=1, pin_memory=True\n",
    ")\n",
    "\n",
    "# Validation dataset\n",
    "jax_validation_dataset = lanfactory.trainers.DatasetTorch(\n",
    "    file_ids=file_list_,\n",
    "    batch_size=(\n",
    "        train_config[DEVICE + \"_batch_size\"]\n",
    "        if torch.cuda.is_available()\n",
    "        else train_config[DEVICE + \"_batch_size\"]\n",
    "    ),\n",
    "    label_lower_bound=np.log(1e-10),\n",
    "    features_key=\"lan_data\",\n",
    "    label_key=\"lan_labels\",\n",
    "    out_framework=\"jax\",\n",
    ")\n",
    "\n",
    "jax_validation_dataloader = torch.utils.data.DataLoader(\n",
    "    jax_validation_dataset,\n",
    "    shuffle=True,\n",
    "    batch_size=None,\n",
    "    num_workers=1,\n",
    "    pin_memory=True,\n",
    ")"
   ]
  },
  {
   "cell_type": "markdown",
   "metadata": {},
   "source": [
    "#### Define Network"
   ]
  },
  {
   "cell_type": "code",
   "execution_count": 23,
   "metadata": {},
   "outputs": [],
   "source": [
    "# LOAD NETWORK\n",
    "jax_net = lanfactory.trainers.MLPJaxFactory(network_config=network_config, train=True)\n",
    "\n",
    "# Save model config\n",
    "model_folder = os.path.join(\"data\", \"jax_models\", MODEL)\n",
    "os.makedirs(model_folder, exist_ok = True)\n",
    "\n",
    "pickle.dump(\n",
    "    network_config,\n",
    "    open(os.path.join(model_folder,\n",
    "\t\t\t\t\t  \"jax_network_config.pickle\"), \"wb\")\n",
    "\t\t)"
   ]
  },
  {
   "cell_type": "markdown",
   "metadata": {},
   "source": [
    "#### Train "
   ]
  },
  {
   "cell_type": "code",
   "execution_count": 24,
   "metadata": {},
   "outputs": [],
   "source": [
    "jax_trainer = lanfactory.trainers.ModelTrainerJaxMLP(\n",
    "    train_config=train_config,\n",
    "    model=jax_net,\n",
    "    train_dl=jax_training_dataloader,\n",
    "    valid_dl=jax_validation_dataloader,\n",
    "    pin_memory=True,\n",
    ")"
   ]
  },
  {
   "cell_type": "code",
   "execution_count": 25,
   "metadata": {},
   "outputs": [
    {
     "data": {
      "text/plain": [
       "['data/lan_mlp/angle/training_data_48209832bd8711ef94806ae25f443f63.pickle',\n",
       " 'data/lan_mlp/angle/training_data_4b8e9c76bd8711ef94806ae25f443f63.pickle',\n",
       " 'data/lan_mlp/angle/training_data_4ca9c158bd8711ef94806ae25f443f63.pickle',\n",
       " 'data/lan_mlp/angle/training_data_5131d8bebd8711ef94806ae25f443f63.pickle',\n",
       " 'data/lan_mlp/angle/training_data_4edc5b34bd8711ef94806ae25f443f63.pickle',\n",
       " 'data/lan_mlp/angle/training_data_4db001c0bd8711ef94806ae25f443f63.pickle',\n",
       " 'data/lan_mlp/angle/training_data_4952c2f2bd8711ef94806ae25f443f63.pickle',\n",
       " 'data/lan_mlp/angle/training_data_4a780624bd8711ef94806ae25f443f63.pickle',\n",
       " 'data/lan_mlp/angle/training_data_4ffa29d8bd8711ef94806ae25f443f63.pickle',\n",
       " 'data/lan_mlp/angle/training_data_4702353cbd8711ef94806ae25f443f63.pickle']"
      ]
     },
     "execution_count": 25,
     "metadata": {},
     "output_type": "execute_result"
    }
   ],
   "source": [
    "jax_trainer.train_dl.dataset.file_ids"
   ]
  },
  {
   "cell_type": "code",
   "execution_count": 26,
   "metadata": {},
   "outputs": [
    {
     "name": "stdout",
     "output_type": "stream",
     "text": [
      "Found folder:  data\n",
      "Moving on...\n",
      "Found folder:  data/jax_models\n",
      "Moving on...\n",
      "Found folder:  data/jax_models/angle\n",
      "Moving on...\n",
      "Epoch: 0 of 5\n"
     ]
    },
    {
     "name": "stdout",
     "output_type": "stream",
     "text": [
      "wandb not available\n",
      "wandb not available\n",
      "Epoch 0/5 time: 19.58434796333313s\n",
      "wandb not available\n",
      "wandb not available\n",
      "Epoch 0/5 time: 13.258813858032227s\n",
      "Epoch: 0 / 5, test_loss: 0.23713995516300201\n",
      "Epoch: 1 of 5\n",
      "wandb not available\n",
      "wandb not available\n",
      "Epoch 1/5 time: 18.62565302848816s\n",
      "wandb not available\n",
      "wandb not available\n",
      "Epoch 1/5 time: 12.761936902999878s\n",
      "Epoch: 1 / 5, test_loss: 0.24371065199375153\n",
      "Epoch: 2 of 5\n",
      "wandb not available\n",
      "wandb not available\n",
      "Epoch 2/5 time: 21.69884181022644s\n",
      "wandb not available\n",
      "wandb not available\n",
      "Epoch 2/5 time: 12.8418447971344s\n",
      "Epoch: 2 / 5, test_loss: 0.17668987810611725\n",
      "Epoch: 3 of 5\n",
      "wandb not available\n",
      "wandb not available\n",
      "Epoch 3/5 time: 19.010042667388916s\n",
      "wandb not available\n",
      "wandb not available\n",
      "Epoch 3/5 time: 14.878432989120483s\n",
      "Epoch: 3 / 5, test_loss: 0.11984226107597351\n",
      "Epoch: 4 of 5\n",
      "wandb not available\n",
      "wandb not available\n",
      "Epoch 4/5 time: 17.479104042053223s\n",
      "wandb not available\n",
      "wandb not available\n",
      "Epoch 4/5 time: 12.706731081008911s\n",
      "Epoch: 4 / 5, test_loss: 0.1039295345544815\n",
      "Saving training history to: data/jax_models/angle/jax_lan_angle__jax_training_history.csv\n",
      "Saving model parameters to: data/jax_models/angle/jax_lan_angle__train_state.jax\n",
      "Saving training config to: data/jax_models/angle/jax_lan_angle__train_config.pickle\n",
      "Saving training data details to: data/jax_models/angle/jax_lan_angle__data_details.pickle\n"
     ]
    }
   ],
   "source": [
    "train_state = jax_trainer.train_and_evaluate(\n",
    "    output_folder=model_folder,\n",
    "    output_file_id=MODEL,\n",
    "    run_id=\"jax\",\n",
    "    wandb_on=False,\n",
    "    wandb_project_id=\"jax\",\n",
    "    save_data_details=True,\n",
    "    verbose=-1,\n",
    "    save_all=True,\n",
    ")"
   ]
  },
  {
   "cell_type": "markdown",
   "metadata": {},
   "source": [
    "#### Check Trained Network\n",
    "\n",
    "We can now re-instantiate our network from the trained weights and check that the output are reasonable."
   ]
  },
  {
   "cell_type": "code",
   "execution_count": 27,
   "metadata": {},
   "outputs": [],
   "source": [
    "# Loaded Net\n",
    "jax_infer = lanfactory.trainers.MLPJaxFactory(\n",
    "\t            network_config=network_config,\n",
    "                train=False,\n",
    "            )"
   ]
  },
  {
   "cell_type": "code",
   "execution_count": 28,
   "metadata": {},
   "outputs": [],
   "source": [
    "forward_pass, forward_pass_jitted = jax_infer.make_forward_partial(\n",
    "    seed=42,\n",
    "    input_dim=model_config[\"n_params\"] + 2,\n",
    "    state=os.path.join(\"data\", \n",
    "\t\t\t\t\t   \"jax_models\",\n",
    "\t\t\t\t\t   MODEL,\n",
    "\t\t\t\t\t   \"lan_\" + MODEL + \"__train_state.jax\"),\n",
    "    add_jitted=True,\n",
    ")"
   ]
  },
  {
   "cell_type": "code",
   "execution_count": 29,
   "metadata": {},
   "outputs": [],
   "source": [
    "import jax.numpy as jnp\n",
    "\n",
    "# Test parameters:\n",
    "theta = deepcopy(ssms.config.model_config[MODEL][\"default_params\"])\n",
    "\n",
    "# Comparison simulator run\n",
    "sim_out = ssms.basic_simulators.simulator.simulator(\n",
    "    model=MODEL, theta=theta, n_samples=50000\n",
    ")\n",
    "\n",
    "# Make input metric\n",
    "input_mat = jnp.zeros((2000, len(theta) + 2))\n",
    "for i in range(len(theta)):\n",
    "    input_mat = input_mat.at[:, i].set(jnp.ones(2000) * theta[i])\n",
    "\n",
    "input_mat = input_mat.at[:, len(theta)].set(\n",
    "    jnp.array(\n",
    "        np.concatenate(\n",
    "            [\n",
    "                np.linspace(5, 0, 1000).astype(np.float32),\n",
    "                np.linspace(0, 5, 1000).astype(np.float32),\n",
    "            ]\n",
    "        )\n",
    "    )\n",
    ")\n",
    "input_mat = input_mat.at[:, len(theta) + 1].set(\n",
    "    jnp.array(\n",
    "        np.concatenate([np.repeat(-1.0, 1000), np.repeat(1.0, 1000)]).astype(np.float32)\n",
    "    )\n",
    ")\n",
    "\n",
    "net_out = forward_pass_jitted(input_mat)"
   ]
  },
  {
   "cell_type": "code",
   "execution_count": 30,
   "metadata": {},
   "outputs": [
    {
     "data": {
      "text/plain": [
       "(array([1.04007232e-04, 0.00000000e+00, 0.00000000e+00, 0.00000000e+00,\n",
       "        0.00000000e+00, 0.00000000e+00, 2.08014463e-04, 0.00000000e+00,\n",
       "        1.04007232e-04, 2.08014463e-04, 3.12021695e-04, 1.04007232e-04,\n",
       "        0.00000000e+00, 3.12021695e-04, 7.28050622e-04, 4.16028927e-04,\n",
       "        7.28050622e-04, 5.20036158e-04, 4.16028927e-04, 8.32057853e-04,\n",
       "        1.35209401e-03, 1.35209401e-03, 1.76812294e-03, 2.08014463e-03,\n",
       "        2.91220249e-03, 4.68032543e-03, 5.40837605e-03, 6.44844836e-03,\n",
       "        9.46465808e-03, 1.02967159e-02, 1.23768606e-02, 1.52890631e-02,\n",
       "        1.88253089e-02, 2.82899670e-02, 3.05781261e-02, 3.85866830e-02,\n",
       "        4.77393193e-02, 6.07402233e-02, 7.71733659e-02, 9.23584217e-02,\n",
       "        1.19816331e-01, 1.46234168e-01, 1.89605183e-01, 2.43896958e-01,\n",
       "        3.04533174e-01, 3.86282858e-01, 4.39638568e-01, 2.93612415e-01,\n",
       "        9.56866531e-03, 3.00788914e-01, 4.26845679e-01, 3.75154085e-01,\n",
       "        3.02765051e-01, 2.36720459e-01, 1.92413379e-01, 1.54242725e-01,\n",
       "        1.26368786e-01, 9.73507688e-02, 8.16456769e-02, 5.94921365e-02,\n",
       "        4.49311241e-02, 3.96267553e-02, 3.38023503e-02, 2.38176561e-02,\n",
       "        1.92413379e-02, 1.85132872e-02, 1.20648389e-02, 1.01927087e-02,\n",
       "        8.21657130e-03, 6.24043390e-03, 5.82440497e-03, 3.32823141e-03,\n",
       "        2.18415187e-03, 2.28815910e-03, 2.08014463e-03, 1.97613740e-03,\n",
       "        1.04007232e-03, 1.14407955e-03, 8.32057853e-04, 4.16028927e-04,\n",
       "        7.28050622e-04, 3.12021695e-04, 7.28050622e-04, 2.08014463e-04,\n",
       "        2.08014463e-04, 2.08014463e-04, 2.08014463e-04, 0.00000000e+00,\n",
       "        1.04007232e-04, 0.00000000e+00, 0.00000000e+00, 0.00000000e+00,\n",
       "        0.00000000e+00, 1.04007232e-04, 0.00000000e+00, 0.00000000e+00,\n",
       "        0.00000000e+00, 0.00000000e+00, 0.00000000e+00, 1.04007232e-04]),\n",
       " array([-9.32606411, -9.13376979, -8.94147547, -8.74918115, -8.55688683,\n",
       "        -8.3645925 , -8.17229818, -7.98000386, -7.78770954, -7.59541522,\n",
       "        -7.4031209 , -7.21082658, -7.01853226, -6.82623794, -6.63394361,\n",
       "        -6.44164929, -6.24935497, -6.05706065, -5.86476633, -5.67247201,\n",
       "        -5.48017769, -5.28788337, -5.09558905, -4.90329473, -4.7110004 ,\n",
       "        -4.51870608, -4.32641176, -4.13411744, -3.94182312, -3.7495288 ,\n",
       "        -3.55723448, -3.36494016, -3.17264584, -2.98035151, -2.78805719,\n",
       "        -2.59576287, -2.40346855, -2.21117423, -2.01887991, -1.82658559,\n",
       "        -1.63429127, -1.44199695, -1.24970263, -1.0574083 , -0.86511398,\n",
       "        -0.67281966, -0.48052534, -0.28823102, -0.0959367 ,  0.09635762,\n",
       "         0.28865194,  0.48094626,  0.67324059,  0.86553491,  1.05782923,\n",
       "         1.25012355,  1.44241787,  1.63471219,  1.82700651,  2.01930083,\n",
       "         2.21159515,  2.40388947,  2.5961838 ,  2.78847812,  2.98077244,\n",
       "         3.17306676,  3.36536108,  3.5576554 ,  3.74994972,  3.94224404,\n",
       "         4.13453836,  4.32683269,  4.51912701,  4.71142133,  4.90371565,\n",
       "         5.09600997,  5.28830429,  5.48059861,  5.67289293,  5.86518725,\n",
       "         6.05748158,  6.2497759 ,  6.44207022,  6.63436454,  6.82665886,\n",
       "         7.01895318,  7.2112475 ,  7.40354182,  7.59583614,  7.78813046,\n",
       "         7.98042479,  8.17271911,  8.36501343,  8.55730775,  8.74960207,\n",
       "         8.94189639,  9.13419071,  9.32648503,  9.51877935,  9.71107368,\n",
       "         9.903368  ]),\n",
       " [<matplotlib.patches.Polygon at 0x2f2fc2010>])"
      ]
     },
     "execution_count": 30,
     "metadata": {},
     "output_type": "execute_result"
    },
    {
     "data": {
      "image/png": "[encoded data removed]",
      "text/plain": [
       "<Figure size 640x480 with 1 Axes>"
      ]
     },
     "metadata": {},
     "output_type": "display_data"
    }
   ],
   "source": [
    "from matplotlib import pyplot as plt\n",
    "\n",
    "# Plot network log likelihood\n",
    "plt.plot(np.linspace(-5, 5, 2000).astype(np.float32), np.exp(net_out))\n",
    "\n",
    "# Plot simulation histogram\n",
    "plt.hist(\n",
    "    sim_out[\"rts\"] * sim_out[\"choices\"],\n",
    "    bins=100,\n",
    "    histtype=\"step\",\n",
    "    fill=None,\n",
    "    density=True,\n",
    ")"
   ]
  }
 ],
 "metadata": {
  "kernelspec": {
   "display_name": "ssms_dev",
   "language": "python",
   "name": "python3"
  },
  "language_info": {
   "codemirror_mode": {
    "name": "ipython",
    "version": 3
   },
   "file_extension": ".py",
   "mimetype": "text/x-python",
   "name": "python",
   "nbconvert_exporter": "python",
   "pygments_lexer": "ipython3",
   "version": "3.11.10"
  },
  "orig_nbformat": 4
 },
 "nbformat": 4,
 "nbformat_minor": 2
}
